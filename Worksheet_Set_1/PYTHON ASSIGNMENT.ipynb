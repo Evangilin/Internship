{
 "cells": [
  {
   "cell_type": "code",
   "execution_count": 15,
   "id": "e19010cf",
   "metadata": {},
   "outputs": [
    {
     "name": "stdout",
     "output_type": "stream",
     "text": [
      "Enter a number: 5\n",
      "1\n",
      "2\n",
      "6\n",
      "24\n",
      "120\n"
     ]
    }
   ],
   "source": [
    "#FACTORIAL\n",
    "num=int(input(\"Enter a number: \"))\n",
    "c=1\n",
    "d=0\n",
    "for i in range(0,num):\n",
    "        d=i+1\n",
    "        c=c*d\n",
    "        print(c)"
   ]
  },
  {
   "cell_type": "code",
   "execution_count": 2,
   "id": "a0d27ed5",
   "metadata": {},
   "outputs": [
    {
     "name": "stdout",
     "output_type": "stream",
     "text": [
      "Enter a number: 261\n",
      "COMPOSITE\n"
     ]
    }
   ],
   "source": [
    "#PRIME OR COMPOSITE NUMBER\n",
    "a=int(input(\"Enter a number: \"))\n",
    "\n",
    "if a==2:\n",
    "    print(\"PRIME\")\n",
    "elif a>2:\n",
    "    for i in range(2,a):\n",
    "        if (a%i)==0:\n",
    "            print(\"COMPOSITE\")\n",
    "            break\n",
    "    else:\n",
    "        print(\"PRIME\")\n",
    "\n",
    "else:\n",
    "    print(\"COM\")"
   ]
  },
  {
   "cell_type": "code",
   "execution_count": 6,
   "id": "28804333",
   "metadata": {},
   "outputs": [
    {
     "name": "stdout",
     "output_type": "stream",
     "text": [
      "ENTER a WORD: deified\n",
      "Palindrome\n"
     ]
    }
   ],
   "source": [
    "#PALINDROME\n",
    "A=input(\"ENTER a WORD: \")\n",
    "v=A[0:]\n",
    "b=A[::-1]\n",
    "if v==b:\n",
    "    print(\"Palindrome\")\n",
    "else:\n",
    "    print(\"Not Palindrome\")"
   ]
  },
  {
   "cell_type": "code",
   "execution_count": 8,
   "id": "bea0ad9b",
   "metadata": {},
   "outputs": [
    {
     "name": "stdout",
     "output_type": "stream",
     "text": [
      "A: 40\n",
      "B: 50\n",
      "64.03124237432849\n"
     ]
    }
   ],
   "source": [
    "# RIGHT-ANGLED TRIANGLE\n",
    "from math import sqrt\n",
    "a=int(input(\"A: \"))\n",
    "b=int(input(\"B: \"))\n",
    "c=sqrt((a**2)+(b**2))\n",
    "print(c)"
   ]
  },
  {
   "cell_type": "code",
   "execution_count": 5,
   "id": "6182428d",
   "metadata": {},
   "outputs": [
    {
     "name": "stdout",
     "output_type": "stream",
     "text": [
      "ENTER A WORD: Hellooo World\n",
      "H:1\n",
      "e:1\n",
      "l:3\n",
      "o:4\n",
      " :1\n",
      "W:1\n",
      "r:1\n",
      "d:1\n"
     ]
    }
   ],
   "source": [
    "#FREQUENCY OF CHARACTER\n",
    "S=input(\"ENTER A WORD: \")\n",
    "a=[]\n",
    "for i in S:\n",
    "    if i not in a:\n",
    "        a.append(i)\n",
    "for j in a:\n",
    "    count=0\n",
    "    for k in S:\n",
    "        if j==k:\n",
    "            count+=1\n",
    "    print(f\"{j}:{count}\")"
   ]
  }
 ],
 "metadata": {
  "kernelspec": {
   "display_name": "Python 3 (ipykernel)",
   "language": "python",
   "name": "python3"
  },
  "language_info": {
   "codemirror_mode": {
    "name": "ipython",
    "version": 3
   },
   "file_extension": ".py",
   "mimetype": "text/x-python",
   "name": "python",
   "nbconvert_exporter": "python",
   "pygments_lexer": "ipython3",
   "version": "3.10.9"
  }
 },
 "nbformat": 4,
 "nbformat_minor": 5
}
