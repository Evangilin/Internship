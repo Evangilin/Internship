{
 "cells": [
  {
   "cell_type": "code",
   "execution_count": 1,
   "id": "d59fdbcf",
   "metadata": {},
   "outputs": [],
   "source": [
    "import selenium\n",
    "import pandas as pd\n",
    "import time\n",
    "from bs4 import BeautifulSoup\n",
    "from selenium import webdriver\n",
    "from selenium.common.exceptions import StaleElementReferenceException, NoSuchElementException\n",
    "import requests\n",
    "from selenium.webdriver.common.by import By"
   ]
  },
  {
   "cell_type": "code",
   "execution_count": 2,
   "id": "dde0adf1",
   "metadata": {},
   "outputs": [],
   "source": [
    "#2\n",
    "driver=webdriver.Chrome()"
   ]
  },
  {
   "cell_type": "code",
   "execution_count": 3,
   "id": "04a45485",
   "metadata": {},
   "outputs": [],
   "source": [
    "driver.get('https://www.bcci.tv/. ')"
   ]
  },
  {
   "cell_type": "code",
   "execution_count": 4,
   "id": "c8f400da",
   "metadata": {},
   "outputs": [],
   "source": [
    "button=driver.find_element(By.XPATH,'/html/body/header/div[3]/div[2]/ul/div[1]/a[2]')\n",
    "button.click()"
   ]
  },
  {
   "cell_type": "code",
   "execution_count": 5,
   "id": "f0c5a8e1",
   "metadata": {},
   "outputs": [
    {
     "name": "stdout",
     "output_type": "stream",
     "text": [
      "['ENGLAND TOUR OF INDIA 2023-24', 'INDIA TOUR OF ZIMBABWE 2024', 'INDIA TOUR OF ZIMBABWE 2024', 'INDIA TOUR OF ZIMBABWE 2024', 'INDIA TOUR OF ZIMBABWE 2024', 'INDIA TOUR OF ZIMBABWE 2024']\n"
     ]
    }
   ],
   "source": [
    "Series=[]\n",
    "series=driver.find_elements(By.XPATH,'//h5[@class=\"match-tournament-name ng-binding\"]')\n",
    "for i in series:\n",
    "    Series.append(i.text)\n",
    "print(Series)"
   ]
  },
  {
   "cell_type": "code",
   "execution_count": 6,
   "id": "0b35b20d",
   "metadata": {},
   "outputs": [
    {
     "name": "stdout",
     "output_type": "stream",
     "text": [
      "['Himachal Pradesh Cricket Association Stadium, Dharamsala', 'Harare Sports Club, Harare', 'Harare Sports Club, Harare', 'Harare Sports Club, Harare', 'Harare Sports Club, Harare', 'Harare Sports Club, Harare']\n"
     ]
    }
   ],
   "source": [
    "Place=[]\n",
    "place=driver.find_elements(By.XPATH,'//div[@class=\"match-place ng-scope\"]')\n",
    "for i in place:\n",
    "    Place.append(i.text)\n",
    "print(Place)"
   ]
  },
  {
   "cell_type": "code",
   "execution_count": 7,
   "id": "45e133d0",
   "metadata": {},
   "outputs": [
    {
     "name": "stdout",
     "output_type": "stream",
     "text": [
      "['7 MARCH, 2024', '6 JULY, 2024', '7 JULY, 2024', '10 JULY, 2024', '13 JULY, 2024', '14 JULY, 2024']\n"
     ]
    }
   ],
   "source": [
    "Date=[]\n",
    "date=driver.find_elements(By.XPATH,'//div[@class=\"match-dates ng-binding\"]')\n",
    "for i in date:\n",
    "    Date.append(i.text)\n",
    "print(Date)"
   ]
  },
  {
   "cell_type": "code",
   "execution_count": 8,
   "id": "40b668b9",
   "metadata": {},
   "outputs": [
    {
     "name": "stdout",
     "output_type": "stream",
     "text": [
      "['9:30 AM IST', '8:00 PM IST', '8:00 PM IST', '8:00 PM IST', '8:00 PM IST', '8:00 PM IST']\n"
     ]
    }
   ],
   "source": [
    "Time=[]\n",
    "time=driver.find_elements(By.XPATH,'//div[@class=\"match-time no-margin ng-binding\"]')\n",
    "for i in time:\n",
    "    Time.append(i.text)\n",
    "print(Time)"
   ]
  },
  {
   "cell_type": "code",
   "execution_count": 9,
   "id": "02dad56f",
   "metadata": {
    "scrolled": true
   },
   "outputs": [
    {
     "data": {
      "text/html": [
       "<div>\n",
       "<style scoped>\n",
       "    .dataframe tbody tr th:only-of-type {\n",
       "        vertical-align: middle;\n",
       "    }\n",
       "\n",
       "    .dataframe tbody tr th {\n",
       "        vertical-align: top;\n",
       "    }\n",
       "\n",
       "    .dataframe thead th {\n",
       "        text-align: right;\n",
       "    }\n",
       "</style>\n",
       "<table border=\"1\" class=\"dataframe\">\n",
       "  <thead>\n",
       "    <tr style=\"text-align: right;\">\n",
       "      <th></th>\n",
       "      <th>Series</th>\n",
       "      <th>Place</th>\n",
       "      <th>Date</th>\n",
       "      <th>Time</th>\n",
       "    </tr>\n",
       "  </thead>\n",
       "  <tbody>\n",
       "    <tr>\n",
       "      <th>0</th>\n",
       "      <td>ENGLAND TOUR OF INDIA 2023-24</td>\n",
       "      <td>Himachal Pradesh Cricket Association Stadium, ...</td>\n",
       "      <td>7 MARCH, 2024</td>\n",
       "      <td>9:30 AM IST</td>\n",
       "    </tr>\n",
       "    <tr>\n",
       "      <th>1</th>\n",
       "      <td>INDIA TOUR OF ZIMBABWE 2024</td>\n",
       "      <td>Harare Sports Club, Harare</td>\n",
       "      <td>6 JULY, 2024</td>\n",
       "      <td>8:00 PM IST</td>\n",
       "    </tr>\n",
       "    <tr>\n",
       "      <th>2</th>\n",
       "      <td>INDIA TOUR OF ZIMBABWE 2024</td>\n",
       "      <td>Harare Sports Club, Harare</td>\n",
       "      <td>7 JULY, 2024</td>\n",
       "      <td>8:00 PM IST</td>\n",
       "    </tr>\n",
       "    <tr>\n",
       "      <th>3</th>\n",
       "      <td>INDIA TOUR OF ZIMBABWE 2024</td>\n",
       "      <td>Harare Sports Club, Harare</td>\n",
       "      <td>10 JULY, 2024</td>\n",
       "      <td>8:00 PM IST</td>\n",
       "    </tr>\n",
       "    <tr>\n",
       "      <th>4</th>\n",
       "      <td>INDIA TOUR OF ZIMBABWE 2024</td>\n",
       "      <td>Harare Sports Club, Harare</td>\n",
       "      <td>13 JULY, 2024</td>\n",
       "      <td>8:00 PM IST</td>\n",
       "    </tr>\n",
       "    <tr>\n",
       "      <th>5</th>\n",
       "      <td>INDIA TOUR OF ZIMBABWE 2024</td>\n",
       "      <td>Harare Sports Club, Harare</td>\n",
       "      <td>14 JULY, 2024</td>\n",
       "      <td>8:00 PM IST</td>\n",
       "    </tr>\n",
       "  </tbody>\n",
       "</table>\n",
       "</div>"
      ],
      "text/plain": [
       "                          Series  \\\n",
       "0  ENGLAND TOUR OF INDIA 2023-24   \n",
       "1    INDIA TOUR OF ZIMBABWE 2024   \n",
       "2    INDIA TOUR OF ZIMBABWE 2024   \n",
       "3    INDIA TOUR OF ZIMBABWE 2024   \n",
       "4    INDIA TOUR OF ZIMBABWE 2024   \n",
       "5    INDIA TOUR OF ZIMBABWE 2024   \n",
       "\n",
       "                                               Place           Date  \\\n",
       "0  Himachal Pradesh Cricket Association Stadium, ...  7 MARCH, 2024   \n",
       "1                         Harare Sports Club, Harare   6 JULY, 2024   \n",
       "2                         Harare Sports Club, Harare   7 JULY, 2024   \n",
       "3                         Harare Sports Club, Harare  10 JULY, 2024   \n",
       "4                         Harare Sports Club, Harare  13 JULY, 2024   \n",
       "5                         Harare Sports Club, Harare  14 JULY, 2024   \n",
       "\n",
       "          Time  \n",
       "0  9:30 AM IST  \n",
       "1  8:00 PM IST  \n",
       "2  8:00 PM IST  \n",
       "3  8:00 PM IST  \n",
       "4  8:00 PM IST  \n",
       "5  8:00 PM IST  "
      ]
     },
     "execution_count": 9,
     "metadata": {},
     "output_type": "execute_result"
    }
   ],
   "source": [
    "df=pd.DataFrame({'Series':Series,'Place':Place,'Date':Date,'Time':Time})\n",
    "df"
   ]
  },
  {
   "cell_type": "code",
   "execution_count": 22,
   "id": "54aaa161",
   "metadata": {},
   "outputs": [],
   "source": [
    "#3\n",
    "driver=webdriver.Chrome()"
   ]
  },
  {
   "cell_type": "code",
   "execution_count": 23,
   "id": "ea1f52cd",
   "metadata": {},
   "outputs": [],
   "source": [
    "driver.get('http://statisticstimes.com/')"
   ]
  },
  {
   "cell_type": "code",
   "execution_count": 24,
   "id": "99231090",
   "metadata": {},
   "outputs": [],
   "source": [
    "ec=driver.find_element(By.XPATH,'/html/body/div[2]/div[1]/div[2]/div[2]/button')\n",
    "ec.click()"
   ]
  },
  {
   "cell_type": "code",
   "execution_count": 25,
   "id": "90cd1a06",
   "metadata": {},
   "outputs": [],
   "source": [
    "ind=driver.find_element(By.XPATH,'/html/body/div[2]/div[1]/div[2]/div[2]/div/a[3]')\n",
    "ind.click()"
   ]
  },
  {
   "cell_type": "code",
   "execution_count": 28,
   "id": "8d938830",
   "metadata": {},
   "outputs": [],
   "source": [
    "ind_gdp=driver.find_element(By.XPATH,'/html/body/div[2]/div[2]/div[2]/ul/li[1]/a')\n",
    "ind_gdp.click()"
   ]
  },
  {
   "cell_type": "code",
   "execution_count": 31,
   "id": "70ea02a7",
   "metadata": {},
   "outputs": [
    {
     "name": "stdout",
     "output_type": "stream",
     "text": [
      "1 Maharashtra - 3,108,022 13.24% 417.163 - 2,027,971\n",
      "2 Tamil Nadu 2,364,514 2,071,286 8.82% 278.011 1,453,321 1,343,287\n",
      "3 Uttar Pradesh 2,257,575 1,974,532 8.41% 265.024 1,304,678 1,204,660\n",
      "4 Karnataka 2,241,368 1,962,725 8.36% 263.440 1,326,319 1,229,713\n",
      "5 Gujarat - 1,937,066 8.25% 259.996 - 1,372,204\n",
      "6 West Bengal 1,554,992 1,363,926 5.81% 183.068 854,023 787,758\n",
      "7 Rajasthan 1,413,620 1,218,193 5.19% 163.507 799,449 738,922\n",
      "8 Madhya Pradesh 1,322,821 1,136,137 4.84% 152.494 643,124 600,689\n",
      "9 Andhra Pradesh 1,317,728 1,133,837 4.83% 152.185 754,338 704,889\n",
      "10 Telangana 1,313,391 1,128,907 4.81% 151.523 726,707 674,371\n",
      "11 Kerala - 932,470 3.97% 125.157 - 572,747\n",
      "12 Delhi 1,043,759 904,642 3.85% 121.422 652,649 597,765\n",
      "13 Haryana 994,154 870,665 3.71% 116.862 608,420 568,086\n",
      "14 Odisha 774,869 670,881 2.86% 90.047 463,859 432,960\n",
      "15 Bihar 751,396 650,302 2.77% 87.284 442,473 399,930\n",
      "16 Punjab 673,107 614,227 2.62% 82.442 461,539 433,769\n",
      "17 Assam 493,167 412,612 1.76% 55.381 289,192 262,523\n",
      "18 Chhattisgarh 457,608 406,416 1.73% 54.550 289,082 267,681\n",
      "19 Jharkhand 393,722 358,863 1.53% 48.167 259,800 243,348\n",
      "20 Uttarakhand 302,621 272,159 1.16% 36.530 207,104 193,412\n",
      "21 Jammu & Kashmir-UT 227,927 199,917 0.85% 26.833 134,716 124,728\n",
      "22 Himachal Pradesh 195,405 176,269 0.75% 23.659 134,576 126,433\n",
      "23 Goa - 82,604 0.35% 11.087 - 55,548\n",
      "24 Tripura 72,636 62,550 0.27% 8.396 42,997 39,487\n",
      "25 Chandigarh - 45,635 0.19% 6.125 - 30,287\n",
      "26 Puducherry - 44,238 0.19% 5.938 - 27,834\n",
      "27 Meghalaya 42,697 38,785 0.17% 5.206 25,209 24,267\n",
      "28 Sikkim 42,756 37,557 0.16% 5.041 22,144 20,728\n",
      "29 Manipur - 36,594 0.16% 4.912 - 20,515\n",
      "30 Arunachal Pradesh - 35,124 0.15% 4.714 - 19,801\n",
      "31 Nagaland - 31,913 0.14% 4.283 - 18,363\n",
      "32 Mizoram - 27,824 0.12% 3.735 - 18,494\n",
      "33 Andaman & Nicobar Islands - 10,371 0.04% 1.392 - 7,172\n"
     ]
    }
   ],
   "source": [
    "\n",
    "E=driver.find_element(By.XPATH,'/html/body/div[3]/div[2]/div[5]/div[1]/div/table/tbody')\n",
    "print(E.text)"
   ]
  },
  {
   "cell_type": "code",
   "execution_count": 38,
   "id": "b0af98a9",
   "metadata": {},
   "outputs": [],
   "source": [
    "#5\n",
    "driver=webdriver.Chrome()"
   ]
  },
  {
   "cell_type": "code",
   "execution_count": 39,
   "id": "dd60c03d",
   "metadata": {},
   "outputs": [],
   "source": [
    "driver.get('https:/www.billboard.com/')"
   ]
  },
  {
   "cell_type": "code",
   "execution_count": 40,
   "id": "07005a71",
   "metadata": {},
   "outputs": [],
   "source": [
    "icon=driver.find_element(By.XPATH,'/html/body/div[3]/header/div/div[4]/div/div[1]/div[1]/button')\n",
    "icon.click()"
   ]
  },
  {
   "cell_type": "code",
   "execution_count": 41,
   "id": "c652aff9",
   "metadata": {},
   "outputs": [],
   "source": [
    "chart=driver.find_element(By.XPATH,'/html/body/div[3]/div[9]/div/div/div/ul/li[1]/h3/a')\n",
    "chart.click()"
   ]
  },
  {
   "cell_type": "code",
   "execution_count": 42,
   "id": "24ebaacd",
   "metadata": {},
   "outputs": [],
   "source": [
    "view=driver.find_element(By.XPATH,'/html/body/div[3]/main/div[2]/div[1]/div[1]/div/div/div[3]/a')\n",
    "view.click()"
   ]
  },
  {
   "cell_type": "code",
   "execution_count": 43,
   "id": "bc49ab84",
   "metadata": {},
   "outputs": [
    {
     "name": "stdout",
     "output_type": "stream",
     "text": [
      "[\"Texas Hold 'Em\\nBeyonce\\n2\\n1\\n2\", 'Lovin On Me\\nJack Harlow\\n1\\n1\\n15', 'Lose Control\\nTeddy Swims\\n5\\n2\\n28', 'Carnival\\n¥$: Kanye West & Ty Dolla $ign Featuring Rich The Kid & Playboi Carti\\n3\\n3\\n2', 'Beautiful Things\\nBenson Boone\\n4\\n3\\n5', 'Snooze\\nSZA\\n7\\n2\\n62', 'Cruel Summer\\nTaylor Swift\\n6\\n1\\n42', 'Greedy\\nTate McRae\\n9\\n3\\n23', 'I Remember Everything\\nZach Bryan Featuring Kacey Musgraves\\n8\\n1\\n26', 'Agora Hills\\nDoja Cat\\n12\\n7\\n22', 'Yes, And?\\nAriana Grande\\n31\\n1\\n6', 'Stick Season\\nNoah Kahan\\n10\\n10\\n21', 'Fast Car\\nLuke Combs\\n11\\n2\\n48', 'Water\\nTyla\\n13\\n7\\n21', 'Last Night\\nMorgan Wallen\\n14\\n1\\n56', 'Redrum\\n21 Savage\\n15\\n5\\n6', \"Thinkin' Bout Me\\nMorgan Wallen\\n16\\n7\\n51\", \"Is It Over Now? (Taylor's Version) [From The Vault]\\nTaylor Swift\\n18\\n1\\n17\", 'Pretty Little Poison\\nWarren Zeiders\\n24\\n19\\n24', 'Flowers\\nMiley Cyrus\\n17\\n1\\n53', 'Paint The Town Red\\nDoja Cat\\n19\\n1\\n29', 'Houdini\\nDua Lipa\\n25\\n11\\n15', 'Made For Me\\nMuni Long\\n32\\n23\\n6', 'Never Lose Me\\nFlo Milli\\n21\\n18\\n10', 'La Diabla\\nXavi\\n22\\n20\\n10', 'Where The Wild Things Are\\nLuke Combs\\n29\\n26\\n14', 'Training Season\\nDua Lipa\\n-\\n27\\n1', 'The Painter\\nCody Johnson\\n35\\n28\\n20', 'Feather\\nSabrina Carpenter\\n42\\n29\\n12', 'What Was I Made For?\\nBillie Eilish\\n27\\n14\\n31', 'Rich Baby Daddy\\nDrake Featuring Sexyy Red & SZA\\n41\\n11\\n20', 'Whatever She Wants\\nBryson Tiller\\n-\\n32\\n1', 'Truck Bed\\nHARDY\\n51\\n33\\n36', 'Selfish\\nJustin Timberlake\\n37\\n19\\n4', 'Everybody\\nNicki Minaj Featuring Lil Uzi Vert\\n40\\n24\\n11', 'Vampire\\nOlivia Rodrigo\\n43\\n1\\n31', 'Wild Ones\\nJessie Murph & Jelly Roll\\n45\\n35\\n20', 'On My Mama\\nVictoria Monet\\n44\\n33\\n23', 'Praise Jah In The Moonlight\\nYG Marley\\n63\\n39\\n4', 'Save Me\\nJelly Roll With Lainey Wilson\\n47\\n19\\n33', 'Exes\\nTate McRae\\n49\\n34\\n14', 'Breathe\\nYeat\\n-\\n42\\n1', 'Dance The Night\\nDua Lipa\\n46\\n6\\n34', 'Need A Favor\\nJelly Roll\\n50\\n13\\n45', 'Surround Sound\\nJID Featuring 21 Savage & Baby Tate\\n54\\n40\\n15', 'World On Fire\\nNate Smith\\n56\\n21\\n17', 'Yeah!\\nUsher Featuring Lil Jon & Ludacris\\n20\\n1\\n47', 'Burn It Down\\nParker McCollum\\n60\\n48\\n18', 'Good Good\\nUsher, Summer Walker & 21 Savage\\n36\\n25\\n28', 'La Victima\\nXavi\\n58\\n46\\n10', 'End Of Beginning\\nDjo\\n-\\n51\\n1', 'Get In With Me\\nBossMan Dlow\\n59\\n52\\n3', 'Burn\\n¥$: Kanye West & Ty Dolla $ign\\n33\\n33\\n2', 'Man Made A Bar\\nMorgan Wallen Featuring Eric Church\\n66\\n15\\n22', '16 Carriages\\nBeyonce\\n38\\n38\\n2', 'First Person Shooter\\nDrake Featuring J. Cole\\n57\\n1\\n20', 'Fuk Sumn\\n¥$: Kanye West & Ty Dolla $ign\\n23\\n23\\n2', 'One Of The Girls\\nThe Weeknd, Jennie & Lily Rose Depp\\n72\\n57\\n9', 'Back To Me\\n¥$: Kanye West & Ty Dolla $ign\\n26\\n26\\n2', 'One Call\\nRich Amiri\\n68\\n60\\n4', 'Contigo\\nKarol G & Tiesto\\n-\\n61\\n1', '23\\nChayce Beckham\\n77\\n62\\n8', 'Murder On The Dancefloor\\nSophie Ellis-Bextor\\n73\\n51\\n8', 'You Broke My Heart\\nDrake\\n74\\n11\\n14', 'Think U The Shit (Fart)\\nIce Spice\\n62\\n37\\n4', 'FTCU\\nNicki Minaj\\n71\\n15\\n11', 'FE!N\\nTravis Scott Featuring Playboi Carti\\n76\\n5\\n17', 'Hiss\\nMegan Thee Stallion\\n48\\n1\\n4', 'I Can Feel It\\nKane Brown\\n82\\n59\\n8', 'Bandit\\nDon Toliver\\n78\\n38\\n3', 'Spin You Around (1/24)\\nMorgan Wallen\\n70\\n24\\n4', 'Soak City\\n310babii\\n84\\n61\\n10', 'Forever\\nNoah Kahan\\n28\\n28\\n2', \"Mamaw's House\\nThomas Rhett Featuring Morgan Wallen\\n83\\n55\\n8\", 'Act II: Date @ 8\\n4Batz\\n81\\n59\\n7', 'Igual Que Un Angel\\nKali Uchis & Peso Pluma\\n69\\n22\\n6', 'Nee-nah\\n21 Savage, Travis Scott & Metro Boomin\\n80\\n10\\n6', 'Wildflowers And Wild Horses\\nLainey Wilson\\n-\\n78\\n4', 'Bellakeo\\nPeso Pluma & Anitta\\n87\\n53\\n10', 'Harley Quinn\\nFuerza Regida & Marshmello\\n85\\n40\\n16', 'Standing Next To You\\nJung Kook\\n61\\n5\\n16', 'Bittersweet\\nGunna\\n-\\n82\\n1', 'IDGAF\\nDrake Featuring Yeat\\n88\\n2\\n20', 'Home\\nGood Neighbours\\n-\\n77\\n3', 'Vultures\\n¥$: Kanye West & Ty Dolla $ign Featuring Lil Durk & Bump J\\n34\\n34\\n2', 'Yeah Glo!\\nGloRilla\\n89\\n86\\n2', 'Coal\\nDylan Gossett\\n95\\n86\\n7', 'Mmhmm\\nBigXthaPlug\\n96\\n65\\n9', 'Psycho CEO\\nYeat\\n-\\n89\\n1', 'Perro Negro\\nBad Bunny & Feid\\n99\\n20\\n16', 'Sensational\\nChris Brown Featuring Davido & Lojay\\n-\\n91\\n3', 'Oklahoma Smokeshow\\nZach Bryan\\n-\\n72\\n17', 'Tu Name\\nFuerza Regida\\n-\\n93\\n1', 'Do It\\n¥$: Kanye West & Ty Dolla $ign\\n52\\n52\\n2', 'Worth It\\nOffset & Don Toliver\\n-\\n92\\n5', 'Talking\\n¥$: Kanye West & Ty Dolla $ign Featuring North West\\n30\\n30\\n2', 'Monaco\\nBad Bunny\\n97\\n5\\n19', 'Where It Ends\\nBailey Zimmerman\\n-\\n32\\n8', 'Wondering Why\\nThe Red Clay Strays\\n-\\n71\\n8', 'Northern Attitude\\nNoah Kahan With Hozier\\n75\\n37\\n12']\n"
     ]
    }
   ],
   "source": [
    "Row=[]\n",
    "row=driver.find_elements(By.XPATH,'//ul[@class=\"lrv-a-unstyle-list lrv-u-flex lrv-u-height-100p lrv-u-flex-direction-column@mobile-max\"]')\n",
    "for i in row:\n",
    "    Row.append(i.text)\n",
    "print(Row)"
   ]
  },
  {
   "cell_type": "code",
   "execution_count": 46,
   "id": "0fc63e28",
   "metadata": {},
   "outputs": [
    {
     "name": "stdout",
     "output_type": "stream",
     "text": [
      "                 Song                                             Artist  \\\n",
      "0      Texas Hold 'Em                                            Beyonce   \n",
      "1         Lovin On Me                                        Jack Harlow   \n",
      "2        Lose Control                                        Teddy Swims   \n",
      "3            Carnival  ¥$: Kanye West & Ty Dolla $ign Featuring Rich ...   \n",
      "4    Beautiful Things                                       Benson Boone   \n",
      "..                ...                                                ...   \n",
      "95            Talking  ¥$: Kanye West & Ty Dolla $ign Featuring North...   \n",
      "96             Monaco                                          Bad Bunny   \n",
      "97      Where It Ends                                   Bailey Zimmerman   \n",
      "98      Wondering Why                                The Red Clay Strays   \n",
      "99  Northern Attitude                             Noah Kahan With Hozier   \n",
      "\n",
      "   Last week Rank Peak Rank Weeks on board  \n",
      "0               2         1              2  \n",
      "1               1         1             15  \n",
      "2               5         2             28  \n",
      "3               3         3              2  \n",
      "4               4         3              5  \n",
      "..            ...       ...            ...  \n",
      "95             30        30              2  \n",
      "96             97         5             19  \n",
      "97              -        32              8  \n",
      "98              -        71              8  \n",
      "99             75        37             12  \n",
      "\n",
      "[100 rows x 5 columns]\n"
     ]
    }
   ],
   "source": [
    "data=[]\n",
    "for i in Row:\n",
    "    Sn,An,Lr,Pr,wob=i.split('\\n')\n",
    "    data.append([Sn,An,Lr,Pr,wob])\n",
    "df=pd.DataFrame(data,columns=['Song','Artist','Last week Rank','Peak Rank','Weeks on board'])\n",
    "print(df)"
   ]
  },
  {
   "cell_type": "code",
   "execution_count": 53,
   "id": "9f9d4464",
   "metadata": {},
   "outputs": [],
   "source": [
    "#8\n",
    "driver=webdriver.Chrome()"
   ]
  },
  {
   "cell_type": "code",
   "execution_count": 54,
   "id": "0075f73f",
   "metadata": {},
   "outputs": [],
   "source": [
    "driver.get('https://archive.ics.uci.edu/')"
   ]
  },
  {
   "cell_type": "code",
   "execution_count": 55,
   "id": "9984a94f",
   "metadata": {},
   "outputs": [],
   "source": [
    "view=driver.find_element(By.XPATH,'/html/body/div/div[1]/div[1]/main/div/div[1]/div/div/div/a[1]')\n",
    "view.click()"
   ]
  },
  {
   "cell_type": "code",
   "execution_count": 59,
   "id": "1431829a",
   "metadata": {},
   "outputs": [
    {
     "name": "stdout",
     "output_type": "stream",
     "text": [
      "['Iris', 'Dry Bean Dataset', 'Heart Disease', 'Rice (Cammeo and Osmancik)', 'Adult', 'Raisin', 'Breast Cancer Wisconsin (Diagnostic)', 'Wine', 'Wine Quality', 'Diabetes']\n"
     ]
    }
   ],
   "source": [
    "dataset_name=[]\n",
    "data=driver.find_elements(By.XPATH,'//a[@class=\"link-hover link text-xl font-semibold\"]')\n",
    "for i in data:\n",
    "    dataset_name.append(i.text)\n",
    "print(dataset_name)"
   ]
  },
  {
   "cell_type": "code",
   "execution_count": 58,
   "id": "76299272",
   "metadata": {},
   "outputs": [
    {
     "name": "stdout",
     "output_type": "stream",
     "text": [
      "['https://archive.ics.uci.edu/dataset/53/iris', 'https://archive.ics.uci.edu/dataset/602/dry+bean+dataset', 'https://archive.ics.uci.edu/dataset/45/heart+disease', 'https://archive.ics.uci.edu/dataset/545/rice+cammeo+and+osmancik', 'https://archive.ics.uci.edu/dataset/2/adult', 'https://archive.ics.uci.edu/dataset/850/raisin', 'https://archive.ics.uci.edu/dataset/17/breast+cancer+wisconsin+diagnostic', 'https://archive.ics.uci.edu/dataset/109/wine', 'https://archive.ics.uci.edu/dataset/186/wine+quality', 'https://archive.ics.uci.edu/dataset/34/diabetes']\n"
     ]
    }
   ],
   "source": [
    "data_url=[]\n",
    "url=driver.find_elements(By.XPATH,'//a[@class=\"link-hover link text-xl font-semibold\"]')\n",
    "for i in url:\n",
    "    data_url.append(i.get_attribute('href'))\n",
    "print(data_url)"
   ]
  },
  {
   "cell_type": "code",
   "execution_count": 62,
   "id": "e427a601",
   "metadata": {},
   "outputs": [],
   "source": [
    "data_type=[]\n",
    "task=[]\n",
    "attribute_type=[]\n",
    "instance=[]\n",
    "attribute=[]\n",
    "year=[]"
   ]
  },
  {
   "cell_type": "code",
   "execution_count": 63,
   "id": "e59757f5",
   "metadata": {},
   "outputs": [],
   "source": [
    "for url in data_url:\n",
    "    driver.get(url)\n",
    "#     time.sleep(2)\n",
    "    try:\n",
    "        Data=driver.find_element(By.XPATH,'/html/body/div/div[1]/div[1]/main/div/div[1]/div[1]/div[2]/div[2]/div[1]/p')\n",
    "        data_type.append(Data.text)\n",
    "    except NoSuchElementException:\n",
    "        data_type.append('-')\n",
    "    try:\n",
    "        Task=driver.find_element(By.XPATH,'/html/body/div/div[1]/div[1]/main/div/div[1]/div[1]/div[2]/div[2]/div[3]/p')\n",
    "        task.append(Task.text)\n",
    "    except NoSuchElementException:\n",
    "        task.append('-')\n",
    "    try:\n",
    "        Atti=driver.find_element(By.XPATH,'/html/body/div/div[1]/div[1]/main/div/div[1]/div[1]/div[2]/div[2]/div[4]/p')\n",
    "        attribute_type.append(Atti.text)\n",
    "    except NoSuchElementException:\n",
    "        Atti.append('-')\n",
    "    try:\n",
    "        ins=driver.find_element(By.XPATH,'/html/body/div/div[1]/div[1]/main/div/div[1]/div[1]/div[2]/div[2]/div[5]/p')\n",
    "        instance.append(ins.text)\n",
    "    except NoSuchElementException:\n",
    "        instance.append('-')\n",
    "    try:\n",
    "        attri=driver.find_element(By.XPATH,'/html/body/div/div[1]/div[1]/main/div/div[1]/div[1]/div[2]/div[2]/div[6]/p')\n",
    "        attribute.append(attri.text)\n",
    "    except NoSuchElementException:\n",
    "        attribute.append('-')\n",
    "    try:\n",
    "        Year=driver.find_element(By.XPATH,'/html/body/div/div[1]/div[1]/main/div/div[1]/div[1]/div[1]/div[2]/h2')\n",
    "        year.append(Year.text)\n",
    "    except NoSuchElementException:\n",
    "        year.append('-')"
   ]
  },
  {
   "cell_type": "code",
   "execution_count": 64,
   "id": "64f994ef",
   "metadata": {},
   "outputs": [
    {
     "name": "stdout",
     "output_type": "stream",
     "text": [
      "['Tabular', 'Multivariate', 'Multivariate', 'Multivariate', 'Multivariate', 'Multivariate', 'Multivariate', 'Tabular', 'Multivariate', 'Multivariate, Time-Series']\n"
     ]
    }
   ],
   "source": [
    "print(data_type)\n"
   ]
  },
  {
   "cell_type": "code",
   "execution_count": 65,
   "id": "62beb392",
   "metadata": {},
   "outputs": [
    {
     "data": {
      "text/html": [
       "<div>\n",
       "<style scoped>\n",
       "    .dataframe tbody tr th:only-of-type {\n",
       "        vertical-align: middle;\n",
       "    }\n",
       "\n",
       "    .dataframe tbody tr th {\n",
       "        vertical-align: top;\n",
       "    }\n",
       "\n",
       "    .dataframe thead th {\n",
       "        text-align: right;\n",
       "    }\n",
       "</style>\n",
       "<table border=\"1\" class=\"dataframe\">\n",
       "  <thead>\n",
       "    <tr style=\"text-align: right;\">\n",
       "      <th></th>\n",
       "      <th>Dataset Name</th>\n",
       "      <th>Data Type</th>\n",
       "      <th>Task</th>\n",
       "      <th>Attribute Type</th>\n",
       "      <th>No of Instance</th>\n",
       "      <th>No of Attribute</th>\n",
       "      <th>Year</th>\n",
       "    </tr>\n",
       "  </thead>\n",
       "  <tbody>\n",
       "    <tr>\n",
       "      <th>0</th>\n",
       "      <td>Iris</td>\n",
       "      <td>Tabular</td>\n",
       "      <td>Classification</td>\n",
       "      <td>Real</td>\n",
       "      <td>150</td>\n",
       "      <td>4</td>\n",
       "      <td>Donated on 6/30/1988</td>\n",
       "    </tr>\n",
       "    <tr>\n",
       "      <th>1</th>\n",
       "      <td>Dry Bean Dataset</td>\n",
       "      <td>Multivariate</td>\n",
       "      <td>Classification</td>\n",
       "      <td>Integer, Real</td>\n",
       "      <td>13611</td>\n",
       "      <td>16</td>\n",
       "      <td>Donated on 9/13/2020</td>\n",
       "    </tr>\n",
       "    <tr>\n",
       "      <th>2</th>\n",
       "      <td>Heart Disease</td>\n",
       "      <td>Multivariate</td>\n",
       "      <td>Classification</td>\n",
       "      <td>Categorical, Integer, Real</td>\n",
       "      <td>303</td>\n",
       "      <td>13</td>\n",
       "      <td>Donated on 6/30/1988</td>\n",
       "    </tr>\n",
       "    <tr>\n",
       "      <th>3</th>\n",
       "      <td>Rice (Cammeo and Osmancik)</td>\n",
       "      <td>Multivariate</td>\n",
       "      <td>Classification</td>\n",
       "      <td>Real</td>\n",
       "      <td>3810</td>\n",
       "      <td>7</td>\n",
       "      <td>Donated on 10/5/2019</td>\n",
       "    </tr>\n",
       "    <tr>\n",
       "      <th>4</th>\n",
       "      <td>Adult</td>\n",
       "      <td>Multivariate</td>\n",
       "      <td>Classification</td>\n",
       "      <td>Categorical, Integer</td>\n",
       "      <td>48842</td>\n",
       "      <td>14</td>\n",
       "      <td>Donated on 4/30/1996</td>\n",
       "    </tr>\n",
       "    <tr>\n",
       "      <th>5</th>\n",
       "      <td>Raisin</td>\n",
       "      <td>Multivariate</td>\n",
       "      <td>Classification</td>\n",
       "      <td>Real, Integer</td>\n",
       "      <td>900</td>\n",
       "      <td>7</td>\n",
       "      <td>Donated on 8/13/2023</td>\n",
       "    </tr>\n",
       "    <tr>\n",
       "      <th>6</th>\n",
       "      <td>Breast Cancer Wisconsin (Diagnostic)</td>\n",
       "      <td>Multivariate</td>\n",
       "      <td>Classification</td>\n",
       "      <td>Real</td>\n",
       "      <td>569</td>\n",
       "      <td>30</td>\n",
       "      <td>Donated on 10/31/1995</td>\n",
       "    </tr>\n",
       "    <tr>\n",
       "      <th>7</th>\n",
       "      <td>Wine</td>\n",
       "      <td>Tabular</td>\n",
       "      <td>Classification</td>\n",
       "      <td>Integer, Real</td>\n",
       "      <td>178</td>\n",
       "      <td>13</td>\n",
       "      <td>Donated on 6/30/1991</td>\n",
       "    </tr>\n",
       "    <tr>\n",
       "      <th>8</th>\n",
       "      <td>Wine Quality</td>\n",
       "      <td>Multivariate</td>\n",
       "      <td>Classification, Regression</td>\n",
       "      <td>Real</td>\n",
       "      <td>4898</td>\n",
       "      <td>11</td>\n",
       "      <td>Donated on 10/6/2009</td>\n",
       "    </tr>\n",
       "    <tr>\n",
       "      <th>9</th>\n",
       "      <td>Diabetes</td>\n",
       "      <td>Multivariate, Time-Series</td>\n",
       "      <td>Classification</td>\n",
       "      <td>Categorical, Integer</td>\n",
       "      <td>1</td>\n",
       "      <td>20</td>\n",
       "      <td>-</td>\n",
       "    </tr>\n",
       "  </tbody>\n",
       "</table>\n",
       "</div>"
      ],
      "text/plain": [
       "                           Dataset Name                  Data Type  \\\n",
       "0                                  Iris                    Tabular   \n",
       "1                      Dry Bean Dataset               Multivariate   \n",
       "2                         Heart Disease               Multivariate   \n",
       "3            Rice (Cammeo and Osmancik)               Multivariate   \n",
       "4                                 Adult               Multivariate   \n",
       "5                                Raisin               Multivariate   \n",
       "6  Breast Cancer Wisconsin (Diagnostic)               Multivariate   \n",
       "7                                  Wine                    Tabular   \n",
       "8                          Wine Quality               Multivariate   \n",
       "9                              Diabetes  Multivariate, Time-Series   \n",
       "\n",
       "                         Task              Attribute Type No of Instance  \\\n",
       "0              Classification                        Real            150   \n",
       "1              Classification               Integer, Real          13611   \n",
       "2              Classification  Categorical, Integer, Real            303   \n",
       "3              Classification                        Real           3810   \n",
       "4              Classification        Categorical, Integer          48842   \n",
       "5              Classification               Real, Integer            900   \n",
       "6              Classification                        Real            569   \n",
       "7              Classification               Integer, Real            178   \n",
       "8  Classification, Regression                        Real           4898   \n",
       "9              Classification        Categorical, Integer              1   \n",
       "\n",
       "  No of Attribute                   Year  \n",
       "0               4   Donated on 6/30/1988  \n",
       "1              16   Donated on 9/13/2020  \n",
       "2              13   Donated on 6/30/1988  \n",
       "3               7   Donated on 10/5/2019  \n",
       "4              14   Donated on 4/30/1996  \n",
       "5               7   Donated on 8/13/2023  \n",
       "6              30  Donated on 10/31/1995  \n",
       "7              13   Donated on 6/30/1991  \n",
       "8              11   Donated on 10/6/2009  \n",
       "9              20                      -  "
      ]
     },
     "execution_count": 65,
     "metadata": {},
     "output_type": "execute_result"
    }
   ],
   "source": [
    "df=pd.DataFrame({'Dataset Name':dataset_name,'Data Type':data_type,'Task':task,'Attribute Type':attribute_type,'No of Instance':instance,'No of Attribute':attribute,'Year':year})\n",
    "df"
   ]
  },
  {
   "cell_type": "code",
   "execution_count": 66,
   "id": "3ba07c8d",
   "metadata": {},
   "outputs": [],
   "source": [
    "#6\n",
    "driver=webdriver.Chrome()"
   ]
  },
  {
   "cell_type": "code",
   "execution_count": 67,
   "id": "a2fd3303",
   "metadata": {},
   "outputs": [],
   "source": [
    "driver.get('https://www.theguardian.com/news/datablog/2012/aug/09/best-selling-books-all-time-fifty-shades-grey-compare')"
   ]
  },
  {
   "cell_type": "code",
   "execution_count": 77,
   "id": "a036fbbe",
   "metadata": {},
   "outputs": [],
   "source": [
    "# data=driver.find_element(By.XPATH,'/html/body/div/div[2]/div[2]/div/div[2]/div/table/tbody')\n",
    "# data.text"
   ]
  },
  {
   "cell_type": "code",
   "execution_count": 73,
   "id": "80a91172",
   "metadata": {},
   "outputs": [],
   "source": [
    "#7\n",
    "driver=webdriver.Chrome()"
   ]
  },
  {
   "cell_type": "code",
   "execution_count": 74,
   "id": "9a58c971",
   "metadata": {},
   "outputs": [],
   "source": [
    "driver.get('https://www.imdb.com/list/ls512407256/')"
   ]
  },
  {
   "cell_type": "code",
   "execution_count": 79,
   "id": "a4c90acf",
   "metadata": {},
   "outputs": [
    {
     "name": "stdout",
     "output_type": "stream",
     "text": [
      "['(2011–2019)', '(2016–2025)', '(2010–2022)', '(2017–2020)', '(2014–2020)', '(2013–2019)', '(2017–2023)', '(2005– )', '(2014–2023)']\n"
     ]
    }
   ],
   "source": [
    "year=[]\n",
    "span=driver.find_elements(By.XPATH,'//span[@class=\"lister-item-year text-muted unbold\"]')\n",
    "for i in span:\n",
    "    year.append(i.text)\n",
    "print(year[0:9])"
   ]
  },
  {
   "cell_type": "code",
   "execution_count": 80,
   "id": "7e755d3b",
   "metadata": {},
   "outputs": [
    {
     "name": "stdout",
     "output_type": "stream",
     "text": [
      "['Action, Adventure, Drama', 'Drama, Fantasy, Horror', 'Drama, Horror, Thriller', 'Drama, Mystery, Thriller', 'Drama, Mystery, Sci-Fi', 'Comedy, Crime, Drama', 'Crime, Drama, Mystery', 'Drama, Romance', 'Action, Adventure, Drama']\n"
     ]
    }
   ],
   "source": [
    "genre=[]\n",
    "G=driver.find_elements(By.XPATH,'//span[@class=\"genre\"]')\n",
    "for i in G:\n",
    "    genre.append(i.text)\n",
    "print(genre[0:9])"
   ]
  },
  {
   "cell_type": "code",
   "execution_count": 81,
   "id": "25a44a36",
   "metadata": {},
   "outputs": [
    {
     "name": "stdout",
     "output_type": "stream",
     "text": [
      "['55 min', '51 min', '44 min', '60 min', '43 min', '59 min', '45 min', '41 min', '43 min', '42 min', '70 min', '22 min', '60 min', '88 min', '44 min', '44 min', '43 min', '60 min', '45 min', '4,393 min', '44 min', '44 min', '43 min', '41 min', '22 min', '60 min', '49 min', '54 min', '5,280 min', '4,576 min', '44 min', '49 min', '45 min', '43 min', '42 min', '60 min', '42 min', '62 min', '56 min', '5,378 min', '23 min', '42 min', '25 min', '3,804 min', '1,455 min', '60 min', '1,755 min', '46 min', '22 min', '45 min', '55 min', '45 min', '51 min', '55 min', '44 min', '44 min', '60 min', '22 min', '43 min', '43 min', '59 min', '5,445 min', '45 min', '2,109 min', '41 min', '7,788 min', '43 min', '42 min', '42 min', '44 min', '70 min', '55 min', '22 min', '42 min', '60 min', '42 min', '88 min', '60 min', '44 min', '60 min', '44 min', '41 min', '43 min', '60 min', '60 min', '44 min', '45 min', '22 min', '4,393 min', '22 min', '44 min', '43 min', '44 min', '60 min', '43 min', '55 min', '41 min', '60 min', '22 min', '45 min']\n"
     ]
    }
   ],
   "source": [
    "Time=[]\n",
    "run=driver.find_elements(By.XPATH,'//span[@class=\"runtime\"]')\n",
    "for i in run:\n",
    "    Time.append(i.text)\n",
    "print(Time)"
   ]
  },
  {
   "cell_type": "code",
   "execution_count": 82,
   "id": "0f3c9170",
   "metadata": {},
   "outputs": [
    {
     "name": "stdout",
     "output_type": "stream",
     "text": [
      "['9.2', '8.7', '8.1', '7.5', '7.6', '8', '6.5', '7.6', '7.5']\n"
     ]
    }
   ],
   "source": [
    "ratings=[]\n",
    "r=driver.find_elements(By.XPATH,'//div[@class=\"ipl-rating-star small\"]')\n",
    "for i in r:\n",
    "    ratings.append(i.text)\n",
    "print(ratings[0:9])"
   ]
  },
  {
   "cell_type": "code",
   "execution_count": null,
   "id": "812a8947",
   "metadata": {},
   "outputs": [],
   "source": []
  }
 ],
 "metadata": {
  "kernelspec": {
   "display_name": "Python 3 (ipykernel)",
   "language": "python",
   "name": "python3"
  },
  "language_info": {
   "codemirror_mode": {
    "name": "ipython",
    "version": 3
   },
   "file_extension": ".py",
   "mimetype": "text/x-python",
   "name": "python",
   "nbconvert_exporter": "python",
   "pygments_lexer": "ipython3",
   "version": "3.10.9"
  }
 },
 "nbformat": 4,
 "nbformat_minor": 5
}
