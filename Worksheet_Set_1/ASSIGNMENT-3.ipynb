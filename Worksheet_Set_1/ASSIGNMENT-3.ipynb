{
 "cells": [
  {
   "cell_type": "code",
   "execution_count": 1,
   "id": "066a69cf",
   "metadata": {},
   "outputs": [],
   "source": [
    "import selenium\n",
    "import pandas as pd\n",
    "import time\n",
    "from bs4 import BeautifulSoup\n",
    "from selenium import webdriver\n",
    "from selenium.common.exceptions import StaleElementReferenceException, NoSuchElementException\n",
    "import requests\n",
    "from selenium.webdriver.common.by import By"
   ]
  },
  {
   "cell_type": "code",
   "execution_count": 21,
   "id": "b97964c9",
   "metadata": {},
   "outputs": [],
   "source": [
    "driver=webdriver.Chrome()"
   ]
  },
  {
   "cell_type": "code",
   "execution_count": 22,
   "id": "3ef1a242",
   "metadata": {},
   "outputs": [],
   "source": [
    "driver.get(\"https://www.amazon.in/\")\n"
   ]
  },
  {
   "cell_type": "code",
   "execution_count": 23,
   "id": "6b08304d",
   "metadata": {},
   "outputs": [],
   "source": [
    "search=driver.find_element(By.XPATH,'/html/body/div[1]/header/div/div[1]/div[2]/div/form/div[2]/div[1]/input')\n",
    "search.send_keys('Guitar')"
   ]
  },
  {
   "cell_type": "code",
   "execution_count": 24,
   "id": "59ad3182",
   "metadata": {},
   "outputs": [],
   "source": [
    "sear_button=driver.find_element(By.XPATH,'/html/body/div[1]/header/div/div[1]/div[2]/div/form/div[3]/div')\n",
    "sear_button.click()"
   ]
  },
  {
   "cell_type": "code",
   "execution_count": 124,
   "id": "c56beea4",
   "metadata": {},
   "outputs": [],
   "source": [
    "prod_url=[]\n",
    "start=0\n",
    "end=3\n",
    "for page in range(start,end):\n",
    "    url=driver.find_elements(By.XPATH,'//a[@class=\"a-link-normal s-underline-text s-underline-link-text s-link-style a-text-normal\"]')\n",
    "    for i in url:\n",
    "        prod_url.append(i.get_attribute('href'))\n",
    "    next_button=driver.find_element(By.XPATH,'/html/body/div[1]/div[1]/div[1]/div[1]/div/span[1]/div[1]/div[67]/div/div/span/a[3]')\n",
    "    next_button.click()\n",
    "    time.sleep(3)"
   ]
  },
  {
   "cell_type": "code",
   "execution_count": 140,
   "id": "26c2a966",
   "metadata": {},
   "outputs": [],
   "source": [
    "prod_name=[]\n",
    "start=0\n",
    "end=3\n",
    "for page in range(start,end):\n",
    "    url=driver.find_elements(By.XPATH,'//span[@class=\"a-size-base-plus a-color-base a-text-normal\"]')\n",
    "    for i in url:\n",
    "#         driver.get(i)\n",
    "#         time.sleep(5)\n",
    "        try:\n",
    "#             pname=driver.find_element(By.XPATH,'/html/body/div[1]/div[1]/div[1]/div[1]/div/span[1]/div[1]/div[3]/div/div/div/div/span/div/div/div[2]/div[2]/h2/a/span')\n",
    "            prod_name.append(i.text)\n",
    "        except NoSuchElementException:\n",
    "            prod_name.append('-')\n",
    "#     next_button=driver.find_element(By.XPATH,'/html/body/div[1]/div[1]/div[1]/div[1]/div/span[1]/div[1]/div[67]/div/div/span/a[3]')\n",
    "#     next_button.click()\n",
    "\n",
    "\n",
    "\n",
    "\n",
    "\n",
    "\n",
    "# prod_name=[]\n",
    "# for i in prod_url:\n",
    "#     driver.get(i)\n",
    "#     time.sleep(5)\n",
    "#     try:\n",
    "#         pname=driver.find_element(By.XPATH,'/html/body/div[1]/div[1]/div[1]/div[1]/div/span[1]/div[1]/div[3]/div/div/div/div/span/div/div/div[2]/div[1]/h2/a/span')\n",
    "#         prod_name.append(pname.text)\n",
    "#     except NoSuchElementException:\n",
    "#         prod_name('-')\n",
    "\n",
    "\n",
    "# prod_name=[]\n",
    "# start=0\n",
    "# end=3\n",
    "# for page in range(start,end):\n",
    "#     url=driver.find_elements(By.XPATH,'//span[@class=\"a-size-base-plus a-color-base a-text-normal\"]')\n",
    "#     for i in url:\n",
    "#         prod_name.append(i.text)\n",
    "#     next_button=driver.find_element(By.XPATH,'/html/body/div[1]/div[1]/div[1]/div[1]/div/span[1]/div[1]/div[67]/div/div/span/a[3]')\n",
    "#     next_button.click()\n",
    "#     time.sleep(3)"
   ]
  },
  {
   "cell_type": "code",
   "execution_count": 146,
   "id": "f59b1da9",
   "metadata": {},
   "outputs": [
    {
     "data": {
      "text/plain": [
       "['MOCKING BIRD 38c Acoustic Guitar for Beginners Musical Instruments For Adults premium kit wood curved cutaway design Guitar Accessories with string & 5 picks & bag for beige (Red)',\n",
       " 'Kaspar 10C Lindenwood Acoustic guitar 38 Inches Cutaway guitar & Truss Rod Guitar for beginers & students (BLUE)',\n",
       " 'Henrix 38C PRO 38 Inch Cutaway Acoustic Guitar With with Die-cast Tuners, Dual-action Truss Rod, Gig-Bag, Picks, String set, String Winder, Strap & Polishing Cloth - Black',\n",
       " 'Kaspar 10C Lindenwood Acoustic guitar 38 Inches Cutaway guitar & Truss Rod Guitar for beginers & students (Sunburst)',\n",
       " 'Kadence Guitar Slowhand Series Premium Electric Acoustic Mahogany body Demi Cutaway Jumbo Guitar 41” Combo with Heavy Padded Bag, Instrument cable, Pro Capo, Picks, and String Set (Mahogany SH03)',\n",
       " 'JUAREZ Arpeggio Guitar JRA39SR-BL-K, blue',\n",
       " 'BLUEBERRY B-38C, Acoustic Guitar Kit with Bag, Strap, One Pack Strings And 2 Picks - 38 Inch (Black)',\n",
       " 'JUAREZ Arpéggio 104.14 cm (41 Inch) Acoustic Guitar Kit, Spruce Top, Black',\n",
       " 'INTERN Cutaway Design Acoustic Guitar Pack -Humidity Proof, Bend resistant, Durable Action, Natural tone & resonance. Sunburst Carbon Fibre/Fiber Guitar with carry bag, Strap, Strings set, Picks.',\n",
       " 'Yamaha FS80C Acoustic Guitar Cutaway Concert Body With Mexa Sponge Bag, Guitar Belt, Guitar Stand, String Set & Plectrums.(NT)',\n",
       " 'Vault Traveller 34 Inch Acoustic Guitar With Truss Rod, Gig-Bag, Strap, Strings, Polishing Cloth, String Winder, Picks & E-Book - Natural Gloss',\n",
       " 'Yamaha FS80C 25 Incheses sprucewood The Ultimate Concert Body Cutaway Acoustic Guitar (Black) With Bajaao Gig-Bag',\n",
       " 'Yamaha F280 Acoustic wood Guitar, Tobacco own Sunburst With Bajaao Gig bag',\n",
       " 'Juarez Acoustic Guitar, 38 Inch Cutaway, JRZ38C/BKNA Black',\n",
       " 'JUAREZ Arpeggio 99.06 cm (39 Inch) Acoustic Guitar Kit, Spruce Top, Rosewood Fretboard & Bridge, Truss Rod, Chrome Die Cast Machine Tuners, Black',\n",
       " 'Kadence Acoustica Series Semi Acoustic Ash Wood with Fluorocarbon strings Equalizer A-06 (Ukulele)',\n",
       " 'Intern INT-38C-VT-G 38 Incheses Cutaway Right HAnded lindenwood Acoustic Guitar Kit, With Bag, Strings, Pick And Strap (Violet, 6-Strings)',\n",
       " 'Intern INT-38C-BK-G Cutaway Right Handed Acoustic Guitar Kit, with Bag, Nickel Strings, Pick And Strap (Black) -6 Strings',\n",
       " 'Yamaha FX280 Tobacco Brown Sunburst Electro Acoustic Guitar',\n",
       " 'JUAREZ JRZ38C 38 Inches Lindenwood Right Handed Acoustic Guitar With Bag, Strings, Pick And Strap (Natural, Brown, 6 Strings)',\n",
       " 'Kadence Guitar Slowhand Series Premium Electric Acoustic Mahogany body Demi Cutaway Jumbo Guitar 41” Combo with Heavy Padded Bag, Instrument cable, Pro Capo, Picks, and String Set (Mahogany SH03)',\n",
       " 'Kaspar 10C Lindenwood Acoustic guitar 38 Inches Cutaway guitar & Truss Rod Guitar with floor stand or wall mount for beginers & students (red)',\n",
       " 'Guitar Kit Set Guitar Strings Changing Kit Guitar Tool Kit with 6 Strings, 6 Multicolored Picks, 1 String Winder cutter, 1 Guitar Tuner for Acoustic Guitars',\n",
       " 'Guitar Kit Set Guitar Strings Changing Kit Guitar Tool Kit with 6 Strings, 6 Multicolored Picks, 1 Guitar Capo, 1 String Winder cutter, 1 Guitar Tuner for Acoustic Guitars',\n",
       " 'Juarez JRZ38C/3TSNA Acoustic Guitar, 38 Inch Cutaway, 3TS Sunburst',\n",
       " 'Intern INT-38C Acoustic Guitar Kit (Natural)',\n",
       " 'Portible Musical Guitar Soprano Ukulele Bundle 4-String Acoustic Guitar Learning Kids Toy Mahogany Brown 18',\n",
       " 'JUAREZ Arpeggio 39 Inch Acoustic Guitar Kit, Spruce Top, Rosewood Fretboard & Bridge, Truss Rod, Chrome Die Cast Machine Tuners, Red',\n",
       " 'Fender Squier 39 Inch 6 String Cutaway Acoustic Guitar Hardwood Fretboard-Natural SA-135C',\n",
       " 'Kadence Astro Man Electric Guitar, 21 FRETS, H- S - S PICK UPS Walnut Top with Alder wood Back and Sides With Picks, Cable, Strap, Bag, Strings and Amplifier',\n",
       " 'Fender Dreadnought Acoustic Guitar FA-125 Black Right-Handed 971210706',\n",
       " 'JUAREZ Arpeggio Guitar JRA41SP-RD-K, red',\n",
       " 'YAMAHA Mexa Yamaha F310, Dreadnought Acoustic Guitar with Sponge Bag, Belt and Plectrums Combo Pack',\n",
       " 'Juârez JRZ38C/WH 6 Strings Acoustic Guitar 38 Inch Cutaway, Right Handed, White with Bag, Strings, Picks and Strap',\n",
       " 'Yamaha FS100C Acoustic Guitar, Natural',\n",
       " 'Kadence A281 Professional Acoustic Rosewood guitar (Natural, Beige)',\n",
       " 'Henrix 38CE 38 Inch Cutaway Electro-Acoustic Guitar With Dual Action Truss Rod, Gigbag, Picks, String Set, String Winder, Strap, Polishing Cloth & Ebook - Natural',\n",
       " 'Intern INT-38C-SB-G Linden Wood Cutaway Right Handed Acoustic Guitar Kit, With Bag, Strings, Pick And Strap (Sunburst, 6 Strings)',\n",
       " 'PS Signature 41inch Acoustic Guitar New Model (Natural Color) Free 1 set Strings, 3 Picks, Bag & Belt)',\n",
       " 'Juârez JRZ38C/MAH 6 Strings Acoustic Guitar 38 Inch Cutaway, Right Handed, Mahogany with Bag, Strings, Picks and Strap',\n",
       " 'Washburn Bella Tono 6 String Acoustic-Electric Guitar, Right, Gloss Charcoal Burst (BTS9VCECH-D)',\n",
       " 'BLUEBERRY B-D38, Acoustic Guitar Kit Inbuilt Truss Rod with Bag, Strap, One Pack Strings And Picks - 38 Inch (Black)',\n",
       " 'Kadence 12 strings Slowhand Premium Black Spruce wood Semi Acoustic Guitar KSH04-12EQ',\n",
       " 'Vault EA40-CE 41 inch Premium Solid Spruce-Top Cutaway Electro Acoustic Guitar - Natural',\n",
       " 'Kadence Guitar Frontier Series, Blue Acoustic Guitar with Die Cast Keys, Set of Strings, Strap, Picks, Guitar stand, Capo and Bag, Super Combo (Blue, Acoustic)',\n",
       " 'Juarez Acoustic Guitar, 38 Inch Cutaway JRZ38C/PP - Retro Hippie Funky Design, Complete Set with Bag, Picks, Strap & Extra Strings, Purple Doodle',\n",
       " 'Fender 250XS Nickel Plated Steel Electric Guitar Strings - Extra Super Light',\n",
       " 'Juarez Acoustic Guitar, [ LEFT HANDED] 38 Inch Cutaway, 38CL/BK with Bag, Strings, Pick and Strap, Black',\n",
       " 'Kadence Acoustica Series, Semi Acoustic Guitar Spruce Top',\n",
       " 'Kadence Acoustica 34” Acoustic Guitar A03 with bag',\n",
       " 'Cort Acoustic Guitar with Cutaway Electronics AF515CE Open Pore',\n",
       " 'YAMAHA F310-TBS Right Handed Spruce, Back/Side/Rib, Meranti Acoustic Guitar (Tobacco Sunburst, 6-Strings)',\n",
       " 'Squier Sonic Stratocaster Electric Guitar, Black, Maple Fingerboard, Black Pickguard 0373203506',\n",
       " 'Fender Acoustic Guitar Concert Cutaway Electronics FA135CE 971253522 Mahogany',\n",
       " 'Fender Acoustic Guitar Dreadnought Cutaway Electronics FA-125CE Natural 971113221',\n",
       " 'Donner Silent Guitar, Mahogany',\n",
       " 'GT-KIT/003, Guitar Kit Set Guitar Strings Changing Kit Guitar Tool Kit with 6 Strings, 12 Multicolored Picks, 1 Guitar Capo, 1 String Winder 1 String Cutter, 1 Guitar Tuner for Acoustic Guitars',\n",
       " 'Guitar Accessories Kit Including Guitar Tuner, Guitar Capo, 3 in 1 String Winder, 5 Celluloid Guitar Picks Plectrum Acoustic Guitar Kit (Capo + Tuner+ String Winder + Picks)',\n",
       " 'Guitar Parts Replacement kit kaspar E-1st, B-2nd & G-3rd string|1Left+1Right Tuning Keys with bridge pin,sadle nut or winder|Guitar Accessories, Clear Tone for Acoustic Guitar (SEMI CLOSE)',\n",
       " 'Guitar Kit Set Guitar Strings Changing Kit Guitar Tool Kit with 6 Strings, 6 Multicolored Picks, 1 String Winder cutter, 1 Guitar Tuner for Acoustic Guitars',\n",
       " 'MOCKING BIRD 38c Acoustic Guitar for Beginners Musical Instruments For Adults premium kit wood curved cutaway design Guitar Accessories with string & 5 picks & bag for beige (Red)',\n",
       " 'Kaspar 10C Lindenwood Acoustic guitar 38 Inches Cutaway guitar & Truss Rod Guitar for beginers & students (BLUE)',\n",
       " 'Henrix 38C PRO 38 Inch Cutaway Acoustic Guitar With with Die-cast Tuners, Dual-action Truss Rod, Gig-Bag, Picks, String set, String Winder, Strap & Polishing Cloth - Black',\n",
       " 'Kaspar 10C Lindenwood Acoustic guitar 38 Inches Cutaway guitar & Truss Rod Guitar for beginers & students (Sunburst)',\n",
       " 'Kadence Guitar Slowhand Series Premium Electric Acoustic Mahogany body Demi Cutaway Jumbo Guitar 41” Combo with Heavy Padded Bag, Instrument cable, Pro Capo, Picks, and String Set (Mahogany SH03)',\n",
       " 'JUAREZ Arpeggio Guitar JRA39SR-BL-K, blue',\n",
       " 'BLUEBERRY B-38C, Acoustic Guitar Kit with Bag, Strap, One Pack Strings And 2 Picks - 38 Inch (Black)',\n",
       " 'JUAREZ Arpéggio 104.14 cm (41 Inch) Acoustic Guitar Kit, Spruce Top, Black',\n",
       " 'INTERN Cutaway Design Acoustic Guitar Pack -Humidity Proof, Bend resistant, Durable Action, Natural tone & resonance. Sunburst Carbon Fibre/Fiber Guitar with carry bag, Strap, Strings set, Picks.',\n",
       " 'Yamaha FS80C Acoustic Guitar Cutaway Concert Body With Mexa Sponge Bag, Guitar Belt, Guitar Stand, String Set & Plectrums.(NT)',\n",
       " 'Vault Traveller 34 Inch Acoustic Guitar With Truss Rod, Gig-Bag, Strap, Strings, Polishing Cloth, String Winder, Picks & E-Book - Natural Gloss',\n",
       " 'Yamaha FS80C 25 Incheses sprucewood The Ultimate Concert Body Cutaway Acoustic Guitar (Black) With Bajaao Gig-Bag',\n",
       " 'Yamaha F280 Acoustic wood Guitar, Tobacco own Sunburst With Bajaao Gig bag',\n",
       " 'Juarez Acoustic Guitar, 38 Inch Cutaway, JRZ38C/BKNA Black',\n",
       " 'JUAREZ Arpeggio 99.06 cm (39 Inch) Acoustic Guitar Kit, Spruce Top, Rosewood Fretboard & Bridge, Truss Rod, Chrome Die Cast Machine Tuners, Black',\n",
       " 'Kadence Acoustica Series Semi Acoustic Ash Wood with Fluorocarbon strings Equalizer A-06 (Ukulele)',\n",
       " 'Intern INT-38C-VT-G 38 Incheses Cutaway Right HAnded lindenwood Acoustic Guitar Kit, With Bag, Strings, Pick And Strap (Violet, 6-Strings)',\n",
       " 'Intern INT-38C-BK-G Cutaway Right Handed Acoustic Guitar Kit, with Bag, Nickel Strings, Pick And Strap (Black) -6 Strings',\n",
       " 'Yamaha FX280 Tobacco Brown Sunburst Electro Acoustic Guitar',\n",
       " 'JUAREZ JRZ38C 38 Inches Lindenwood Right Handed Acoustic Guitar With Bag, Strings, Pick And Strap (Natural, Brown, 6 Strings)',\n",
       " 'Kadence Guitar Slowhand Series Premium Electric Acoustic Mahogany body Demi Cutaway Jumbo Guitar 41” Combo with Heavy Padded Bag, Instrument cable, Pro Capo, Picks, and String Set (Mahogany SH03)',\n",
       " 'Kaspar 10C Lindenwood Acoustic guitar 38 Inches Cutaway guitar & Truss Rod Guitar with floor stand or wall mount for beginers & students (red)',\n",
       " 'Guitar Kit Set Guitar Strings Changing Kit Guitar Tool Kit with 6 Strings, 6 Multicolored Picks, 1 String Winder cutter, 1 Guitar Tuner for Acoustic Guitars',\n",
       " 'Guitar Kit Set Guitar Strings Changing Kit Guitar Tool Kit with 6 Strings, 6 Multicolored Picks, 1 Guitar Capo, 1 String Winder cutter, 1 Guitar Tuner for Acoustic Guitars',\n",
       " 'Juarez JRZ38C/3TSNA Acoustic Guitar, 38 Inch Cutaway, 3TS Sunburst',\n",
       " 'Intern INT-38C Acoustic Guitar Kit (Natural)',\n",
       " 'Portible Musical Guitar Soprano Ukulele Bundle 4-String Acoustic Guitar Learning Kids Toy Mahogany Brown 18',\n",
       " 'JUAREZ Arpeggio 39 Inch Acoustic Guitar Kit, Spruce Top, Rosewood Fretboard & Bridge, Truss Rod, Chrome Die Cast Machine Tuners, Red',\n",
       " 'Fender Squier 39 Inch 6 String Cutaway Acoustic Guitar Hardwood Fretboard-Natural SA-135C',\n",
       " 'Kadence Astro Man Electric Guitar, 21 FRETS, H- S - S PICK UPS Walnut Top with Alder wood Back and Sides With Picks, Cable, Strap, Bag, Strings and Amplifier',\n",
       " 'Fender Dreadnought Acoustic Guitar FA-125 Black Right-Handed 971210706',\n",
       " 'JUAREZ Arpeggio Guitar JRA41SP-RD-K, red',\n",
       " 'YAMAHA Mexa Yamaha F310, Dreadnought Acoustic Guitar with Sponge Bag, Belt and Plectrums Combo Pack',\n",
       " 'Juârez JRZ38C/WH 6 Strings Acoustic Guitar 38 Inch Cutaway, Right Handed, White with Bag, Strings, Picks and Strap',\n",
       " 'Yamaha FS100C Acoustic Guitar, Natural',\n",
       " 'Kadence A281 Professional Acoustic Rosewood guitar (Natural, Beige)',\n",
       " 'Henrix 38CE 38 Inch Cutaway Electro-Acoustic Guitar With Dual Action Truss Rod, Gigbag, Picks, String Set, String Winder, Strap, Polishing Cloth & Ebook - Natural',\n",
       " 'Intern INT-38C-SB-G Linden Wood Cutaway Right Handed Acoustic Guitar Kit, With Bag, Strings, Pick And Strap (Sunburst, 6 Strings)',\n",
       " 'PS Signature 41inch Acoustic Guitar New Model (Natural Color) Free 1 set Strings, 3 Picks, Bag & Belt)',\n",
       " 'Juârez JRZ38C/MAH 6 Strings Acoustic Guitar 38 Inch Cutaway, Right Handed, Mahogany with Bag, Strings, Picks and Strap',\n",
       " 'Washburn Bella Tono 6 String Acoustic-Electric Guitar, Right, Gloss Charcoal Burst (BTS9VCECH-D)',\n",
       " 'BLUEBERRY B-D38, Acoustic Guitar Kit Inbuilt Truss Rod with Bag, Strap, One Pack Strings And Picks - 38 Inch (Black)',\n",
       " 'Kadence 12 strings Slowhand Premium Black Spruce wood Semi Acoustic Guitar KSH04-12EQ',\n",
       " 'Vault EA40-CE 41 inch Premium Solid Spruce-Top Cutaway Electro Acoustic Guitar - Natural',\n",
       " 'Kadence Guitar Frontier Series, Blue Acoustic Guitar with Die Cast Keys, Set of Strings, Strap, Picks, Guitar stand, Capo and Bag, Super Combo (Blue, Acoustic)',\n",
       " 'Juarez Acoustic Guitar, 38 Inch Cutaway JRZ38C/PP - Retro Hippie Funky Design, Complete Set with Bag, Picks, Strap & Extra Strings, Purple Doodle',\n",
       " 'Fender 250XS Nickel Plated Steel Electric Guitar Strings - Extra Super Light',\n",
       " 'Juarez Acoustic Guitar, [ LEFT HANDED] 38 Inch Cutaway, 38CL/BK with Bag, Strings, Pick and Strap, Black',\n",
       " 'Kadence Acoustica Series, Semi Acoustic Guitar Spruce Top',\n",
       " 'Kadence Acoustica 34” Acoustic Guitar A03 with bag',\n",
       " 'Cort Acoustic Guitar with Cutaway Electronics AF515CE Open Pore',\n",
       " 'YAMAHA F310-TBS Right Handed Spruce, Back/Side/Rib, Meranti Acoustic Guitar (Tobacco Sunburst, 6-Strings)',\n",
       " 'Squier Sonic Stratocaster Electric Guitar, Black, Maple Fingerboard, Black Pickguard 0373203506',\n",
       " 'Fender Acoustic Guitar Concert Cutaway Electronics FA135CE 971253522 Mahogany',\n",
       " 'Fender Acoustic Guitar Dreadnought Cutaway Electronics FA-125CE Natural 971113221',\n",
       " 'Donner Silent Guitar, Mahogany',\n",
       " 'GT-KIT/003, Guitar Kit Set Guitar Strings Changing Kit Guitar Tool Kit with 6 Strings, 12 Multicolored Picks, 1 Guitar Capo, 1 String Winder 1 String Cutter, 1 Guitar Tuner for Acoustic Guitars',\n",
       " 'Guitar Accessories Kit Including Guitar Tuner, Guitar Capo, 3 in 1 String Winder, 5 Celluloid Guitar Picks Plectrum Acoustic Guitar Kit (Capo + Tuner+ String Winder + Picks)',\n",
       " 'Guitar Parts Replacement kit kaspar E-1st, B-2nd & G-3rd string|1Left+1Right Tuning Keys with bridge pin,sadle nut or winder|Guitar Accessories, Clear Tone for Acoustic Guitar (SEMI CLOSE)',\n",
       " 'Guitar Kit Set Guitar Strings Changing Kit Guitar Tool Kit with 6 Strings, 6 Multicolored Picks, 1 String Winder cutter, 1 Guitar Tuner for Acoustic Guitars',\n",
       " 'MOCKING BIRD 38c Acoustic Guitar for Beginners Musical Instruments For Adults premium kit wood curved cutaway design Guitar Accessories with string & 5 picks & bag for beige (Red)',\n",
       " 'Kaspar 10C Lindenwood Acoustic guitar 38 Inches Cutaway guitar & Truss Rod Guitar for beginers & students (BLUE)',\n",
       " 'Henrix 38C PRO 38 Inch Cutaway Acoustic Guitar With with Die-cast Tuners, Dual-action Truss Rod, Gig-Bag, Picks, String set, String Winder, Strap & Polishing Cloth - Black',\n",
       " 'Kaspar 10C Lindenwood Acoustic guitar 38 Inches Cutaway guitar & Truss Rod Guitar for beginers & students (Sunburst)',\n",
       " 'Kadence Guitar Slowhand Series Premium Electric Acoustic Mahogany body Demi Cutaway Jumbo Guitar 41” Combo with Heavy Padded Bag, Instrument cable, Pro Capo, Picks, and String Set (Mahogany SH03)',\n",
       " 'JUAREZ Arpeggio Guitar JRA39SR-BL-K, blue',\n",
       " 'BLUEBERRY B-38C, Acoustic Guitar Kit with Bag, Strap, One Pack Strings And 2 Picks - 38 Inch (Black)',\n",
       " 'JUAREZ Arpéggio 104.14 cm (41 Inch) Acoustic Guitar Kit, Spruce Top, Black',\n",
       " 'INTERN Cutaway Design Acoustic Guitar Pack -Humidity Proof, Bend resistant, Durable Action, Natural tone & resonance. Sunburst Carbon Fibre/Fiber Guitar with carry bag, Strap, Strings set, Picks.',\n",
       " 'Yamaha FS80C Acoustic Guitar Cutaway Concert Body With Mexa Sponge Bag, Guitar Belt, Guitar Stand, String Set & Plectrums.(NT)',\n",
       " 'Vault Traveller 34 Inch Acoustic Guitar With Truss Rod, Gig-Bag, Strap, Strings, Polishing Cloth, String Winder, Picks & E-Book - Natural Gloss',\n",
       " 'Yamaha FS80C 25 Incheses sprucewood The Ultimate Concert Body Cutaway Acoustic Guitar (Black) With Bajaao Gig-Bag',\n",
       " 'Yamaha F280 Acoustic wood Guitar, Tobacco own Sunburst With Bajaao Gig bag',\n",
       " 'Juarez Acoustic Guitar, 38 Inch Cutaway, JRZ38C/BKNA Black',\n",
       " 'JUAREZ Arpeggio 99.06 cm (39 Inch) Acoustic Guitar Kit, Spruce Top, Rosewood Fretboard & Bridge, Truss Rod, Chrome Die Cast Machine Tuners, Black',\n",
       " 'Kadence Acoustica Series Semi Acoustic Ash Wood with Fluorocarbon strings Equalizer A-06 (Ukulele)',\n",
       " 'Intern INT-38C-VT-G 38 Incheses Cutaway Right HAnded lindenwood Acoustic Guitar Kit, With Bag, Strings, Pick And Strap (Violet, 6-Strings)',\n",
       " 'Intern INT-38C-BK-G Cutaway Right Handed Acoustic Guitar Kit, with Bag, Nickel Strings, Pick And Strap (Black) -6 Strings',\n",
       " 'Yamaha FX280 Tobacco Brown Sunburst Electro Acoustic Guitar',\n",
       " 'JUAREZ JRZ38C 38 Inches Lindenwood Right Handed Acoustic Guitar With Bag, Strings, Pick And Strap (Natural, Brown, 6 Strings)',\n",
       " 'Kadence Guitar Slowhand Series Premium Electric Acoustic Mahogany body Demi Cutaway Jumbo Guitar 41” Combo with Heavy Padded Bag, Instrument cable, Pro Capo, Picks, and String Set (Mahogany SH03)',\n",
       " 'Kaspar 10C Lindenwood Acoustic guitar 38 Inches Cutaway guitar & Truss Rod Guitar with floor stand or wall mount for beginers & students (red)',\n",
       " 'Guitar Kit Set Guitar Strings Changing Kit Guitar Tool Kit with 6 Strings, 6 Multicolored Picks, 1 String Winder cutter, 1 Guitar Tuner for Acoustic Guitars',\n",
       " 'Guitar Kit Set Guitar Strings Changing Kit Guitar Tool Kit with 6 Strings, 6 Multicolored Picks, 1 Guitar Capo, 1 String Winder cutter, 1 Guitar Tuner for Acoustic Guitars',\n",
       " 'Juarez JRZ38C/3TSNA Acoustic Guitar, 38 Inch Cutaway, 3TS Sunburst',\n",
       " 'Intern INT-38C Acoustic Guitar Kit (Natural)',\n",
       " 'Portible Musical Guitar Soprano Ukulele Bundle 4-String Acoustic Guitar Learning Kids Toy Mahogany Brown 18',\n",
       " 'JUAREZ Arpeggio 39 Inch Acoustic Guitar Kit, Spruce Top, Rosewood Fretboard & Bridge, Truss Rod, Chrome Die Cast Machine Tuners, Red',\n",
       " 'Fender Squier 39 Inch 6 String Cutaway Acoustic Guitar Hardwood Fretboard-Natural SA-135C',\n",
       " 'Kadence Astro Man Electric Guitar, 21 FRETS, H- S - S PICK UPS Walnut Top with Alder wood Back and Sides With Picks, Cable, Strap, Bag, Strings and Amplifier',\n",
       " 'Fender Dreadnought Acoustic Guitar FA-125 Black Right-Handed 971210706',\n",
       " 'JUAREZ Arpeggio Guitar JRA41SP-RD-K, red',\n",
       " 'YAMAHA Mexa Yamaha F310, Dreadnought Acoustic Guitar with Sponge Bag, Belt and Plectrums Combo Pack',\n",
       " 'Juârez JRZ38C/WH 6 Strings Acoustic Guitar 38 Inch Cutaway, Right Handed, White with Bag, Strings, Picks and Strap',\n",
       " 'Yamaha FS100C Acoustic Guitar, Natural',\n",
       " 'Kadence A281 Professional Acoustic Rosewood guitar (Natural, Beige)',\n",
       " 'Henrix 38CE 38 Inch Cutaway Electro-Acoustic Guitar With Dual Action Truss Rod, Gigbag, Picks, String Set, String Winder, Strap, Polishing Cloth & Ebook - Natural',\n",
       " 'Intern INT-38C-SB-G Linden Wood Cutaway Right Handed Acoustic Guitar Kit, With Bag, Strings, Pick And Strap (Sunburst, 6 Strings)',\n",
       " 'PS Signature 41inch Acoustic Guitar New Model (Natural Color) Free 1 set Strings, 3 Picks, Bag & Belt)',\n",
       " 'Juârez JRZ38C/MAH 6 Strings Acoustic Guitar 38 Inch Cutaway, Right Handed, Mahogany with Bag, Strings, Picks and Strap',\n",
       " 'Washburn Bella Tono 6 String Acoustic-Electric Guitar, Right, Gloss Charcoal Burst (BTS9VCECH-D)',\n",
       " 'BLUEBERRY B-D38, Acoustic Guitar Kit Inbuilt Truss Rod with Bag, Strap, One Pack Strings And Picks - 38 Inch (Black)',\n",
       " 'Kadence 12 strings Slowhand Premium Black Spruce wood Semi Acoustic Guitar KSH04-12EQ',\n",
       " 'Vault EA40-CE 41 inch Premium Solid Spruce-Top Cutaway Electro Acoustic Guitar - Natural',\n",
       " 'Kadence Guitar Frontier Series, Blue Acoustic Guitar with Die Cast Keys, Set of Strings, Strap, Picks, Guitar stand, Capo and Bag, Super Combo (Blue, Acoustic)',\n",
       " 'Juarez Acoustic Guitar, 38 Inch Cutaway JRZ38C/PP - Retro Hippie Funky Design, Complete Set with Bag, Picks, Strap & Extra Strings, Purple Doodle',\n",
       " 'Fender 250XS Nickel Plated Steel Electric Guitar Strings - Extra Super Light',\n",
       " 'Juarez Acoustic Guitar, [ LEFT HANDED] 38 Inch Cutaway, 38CL/BK with Bag, Strings, Pick and Strap, Black',\n",
       " 'Kadence Acoustica Series, Semi Acoustic Guitar Spruce Top',\n",
       " 'Kadence Acoustica 34” Acoustic Guitar A03 with bag',\n",
       " 'Cort Acoustic Guitar with Cutaway Electronics AF515CE Open Pore',\n",
       " 'YAMAHA F310-TBS Right Handed Spruce, Back/Side/Rib, Meranti Acoustic Guitar (Tobacco Sunburst, 6-Strings)',\n",
       " 'Squier Sonic Stratocaster Electric Guitar, Black, Maple Fingerboard, Black Pickguard 0373203506',\n",
       " 'Fender Acoustic Guitar Concert Cutaway Electronics FA135CE 971253522 Mahogany',\n",
       " 'Fender Acoustic Guitar Dreadnought Cutaway Electronics FA-125CE Natural 971113221',\n",
       " 'Donner Silent Guitar, Mahogany',\n",
       " 'GT-KIT/003, Guitar Kit Set Guitar Strings Changing Kit Guitar Tool Kit with 6 Strings, 12 Multicolored Picks, 1 Guitar Capo, 1 String Winder 1 String Cutter, 1 Guitar Tuner for Acoustic Guitars',\n",
       " 'Guitar Accessories Kit Including Guitar Tuner, Guitar Capo, 3 in 1 String Winder, 5 Celluloid Guitar Picks Plectrum Acoustic Guitar Kit (Capo + Tuner+ String Winder + Picks)',\n",
       " 'Guitar Parts Replacement kit kaspar E-1st, B-2nd & G-3rd string|1Left+1Right Tuning Keys with bridge pin,sadle nut or winder|Guitar Accessories, Clear Tone for Acoustic Guitar (SEMI CLOSE)',\n",
       " 'Guitar Kit Set Guitar Strings Changing Kit Guitar Tool Kit with 6 Strings, 6 Multicolored Picks, 1 String Winder cutter, 1 Guitar Tuner for Acoustic Guitars']"
      ]
     },
     "execution_count": 146,
     "metadata": {},
     "output_type": "execute_result"
    }
   ],
   "source": [
    "#len(prod_name)\n",
    "prod_name"
   ]
  },
  {
   "cell_type": "code",
   "execution_count": 142,
   "id": "396b6b5a",
   "metadata": {},
   "outputs": [],
   "source": [
    "price=[]\n",
    "start=0\n",
    "end=3\n",
    "for page in range(start,end):\n",
    "    url=driver.find_elements(By.XPATH,'//span[@class=\"a-price-whole\"]')\n",
    "    for i in url:\n",
    "#         driver.get(i)\n",
    "#         time.sleep(5)\n",
    "        try:\n",
    "#             pname=driver.find_element(By.XPATH,'/html/body/div[1]/div[1]/div[1]/div[1]/div/span[1]/div[1]/div[3]/div/div/div/div/span/div/div/div[2]/div[2]/h2/a/span')\n",
    "            price.append(i.text)\n",
    "        except NoSuchElementException:\n",
    "            price.append('-')\n",
    "#     next_button=driver.find_element(By.XPATH,'/html/body/div[1]/div[1]/div[1]/div[1]/div/span[1]/div[1]/div[67]/div/div/span/a[3]')\n",
    "#     next_button.click()\n"
   ]
  },
  {
   "cell_type": "code",
   "execution_count": 143,
   "id": "845bd33e",
   "metadata": {},
   "outputs": [
    {
     "data": {
      "text/plain": [
       "189"
      ]
     },
     "execution_count": 143,
     "metadata": {},
     "output_type": "execute_result"
    }
   ],
   "source": [
    "len(price)"
   ]
  },
  {
   "cell_type": "code",
   "execution_count": 155,
   "id": "a55e2d9f",
   "metadata": {},
   "outputs": [],
   "source": [
    "from selenium.webdriver.support.ui import WebDriverWait\n",
    "from selenium.webdriver.support import expected_conditions as EC\n",
    "\n",
    "\n",
    "prod_url=[]\n",
    "start=0\n",
    "end=3\n",
    "for page in range(start,end):\n",
    "    url=driver.find_elements(By.XPATH,'//a[@class=\"a-link-normal s-underline-text s-underline-link-text s-link-style a-text-normal\"]')\n",
    "    for i in url:\n",
    "#         driver.get(i)\n",
    "#         time.sleep(5)\n",
    "        try:\n",
    "#             pname=driver.find_element(By.XPATH,'/html/body/div[1]/div[1]/div[1]/div[1]/div/span[1]/div[1]/div[3]/div/div/div/div/span/div/div/div[2]/div[2]/h2/a/span')\n",
    "            prod_url.append(i.get_attribute('href'))\n",
    "        except NoSuchElementException:\n",
    "            prod_url.append('-')\n",
    "    wait = WebDriverWait(driver, 10)  # Adjust the timeout as needed\n",
    "    next_button = wait.until(EC.visibility_of_element_located((By.XPATH, '/html/body/div[1]/div[1]/div[1]/div[1]/div/span[1]/div[1]/div[67]/div/div/span/a[3]')))\n",
    "    next_button.click()\n"
   ]
  },
  {
   "cell_type": "code",
   "execution_count": 156,
   "id": "d98284e6",
   "metadata": {},
   "outputs": [
    {
     "data": {
      "text/plain": [
       "61"
      ]
     },
     "execution_count": 156,
     "metadata": {},
     "output_type": "execute_result"
    }
   ],
   "source": [
    "#prod_url\n",
    "len(prod_url)"
   ]
  },
  {
   "cell_type": "code",
   "execution_count": 119,
   "id": "5700698e",
   "metadata": {},
   "outputs": [
    {
     "ename": "NoSuchElementException",
     "evalue": "Message: no such element: Unable to locate element: {\"method\":\"xpath\",\"selector\":\"/html/body/div[1]/div[1]/div[1]/div[1]/div/span[1]/div[1]/div[67]/div/div/span/a[3]\"}\n  (Session info: chrome=121.0.6167.161); For documentation on this error, please visit: https://www.selenium.dev/documentation/webdriver/troubleshooting/errors#no-such-element-exception\nStacktrace:\n\tGetHandleVerifier [0x00007FF6C4937012+3522402]\n\t(No symbol) [0x00007FF6C4558352]\n\t(No symbol) [0x00007FF6C4405ABB]\n\t(No symbol) [0x00007FF6C444BF0E]\n\t(No symbol) [0x00007FF6C444C08C]\n\t(No symbol) [0x00007FF6C448E437]\n\t(No symbol) [0x00007FF6C446F09F]\n\t(No symbol) [0x00007FF6C448BDA3]\n\t(No symbol) [0x00007FF6C446EE03]\n\t(No symbol) [0x00007FF6C443F4D4]\n\t(No symbol) [0x00007FF6C44405F1]\n\tGetHandleVerifier [0x00007FF6C4969B9D+3730157]\n\tGetHandleVerifier [0x00007FF6C49BF02D+4079485]\n\tGetHandleVerifier [0x00007FF6C49B75D3+4048163]\n\tGetHandleVerifier [0x00007FF6C468A649+718233]\n\t(No symbol) [0x00007FF6C4564A3F]\n\t(No symbol) [0x00007FF6C455FA94]\n\t(No symbol) [0x00007FF6C455FBC2]\n\t(No symbol) [0x00007FF6C454F2E4]\n\tBaseThreadInitThunk [0x00007FFFC78C257D+29]\n\tRtlUserThreadStart [0x00007FFFC99EAA58+40]\n",
     "output_type": "error",
     "traceback": [
      "\u001b[1;31m---------------------------------------------------------------------------\u001b[0m",
      "\u001b[1;31mNoSuchElementException\u001b[0m                    Traceback (most recent call last)",
      "Cell \u001b[1;32mIn[119], line 8\u001b[0m\n\u001b[0;32m      6\u001b[0m \u001b[38;5;28;01mfor\u001b[39;00m i \u001b[38;5;129;01min\u001b[39;00m url:\n\u001b[0;32m      7\u001b[0m     prod_name\u001b[38;5;241m.\u001b[39mappend(i\u001b[38;5;241m.\u001b[39mtext)\n\u001b[1;32m----> 8\u001b[0m next_button\u001b[38;5;241m=\u001b[39m\u001b[43mdriver\u001b[49m\u001b[38;5;241;43m.\u001b[39;49m\u001b[43mfind_element\u001b[49m\u001b[43m(\u001b[49m\u001b[43mBy\u001b[49m\u001b[38;5;241;43m.\u001b[39;49m\u001b[43mXPATH\u001b[49m\u001b[43m,\u001b[49m\u001b[38;5;124;43m'\u001b[39;49m\u001b[38;5;124;43m/html/body/div[1]/div[1]/div[1]/div[1]/div/span[1]/div[1]/div[67]/div/div/span/a[3]\u001b[39;49m\u001b[38;5;124;43m'\u001b[39;49m\u001b[43m)\u001b[49m\n\u001b[0;32m      9\u001b[0m next_button\u001b[38;5;241m.\u001b[39mclick()\n\u001b[0;32m     10\u001b[0m time\u001b[38;5;241m.\u001b[39msleep(\u001b[38;5;241m3\u001b[39m)\n",
      "File \u001b[1;32m~\\New folder\\lib\\site-packages\\selenium\\webdriver\\remote\\webdriver.py:741\u001b[0m, in \u001b[0;36mWebDriver.find_element\u001b[1;34m(self, by, value)\u001b[0m\n\u001b[0;32m    738\u001b[0m     by \u001b[38;5;241m=\u001b[39m By\u001b[38;5;241m.\u001b[39mCSS_SELECTOR\n\u001b[0;32m    739\u001b[0m     value \u001b[38;5;241m=\u001b[39m \u001b[38;5;124mf\u001b[39m\u001b[38;5;124m'\u001b[39m\u001b[38;5;124m[name=\u001b[39m\u001b[38;5;124m\"\u001b[39m\u001b[38;5;132;01m{\u001b[39;00mvalue\u001b[38;5;132;01m}\u001b[39;00m\u001b[38;5;124m\"\u001b[39m\u001b[38;5;124m]\u001b[39m\u001b[38;5;124m'\u001b[39m\n\u001b[1;32m--> 741\u001b[0m \u001b[38;5;28;01mreturn\u001b[39;00m \u001b[38;5;28;43mself\u001b[39;49m\u001b[38;5;241;43m.\u001b[39;49m\u001b[43mexecute\u001b[49m\u001b[43m(\u001b[49m\u001b[43mCommand\u001b[49m\u001b[38;5;241;43m.\u001b[39;49m\u001b[43mFIND_ELEMENT\u001b[49m\u001b[43m,\u001b[49m\u001b[43m \u001b[49m\u001b[43m{\u001b[49m\u001b[38;5;124;43m\"\u001b[39;49m\u001b[38;5;124;43musing\u001b[39;49m\u001b[38;5;124;43m\"\u001b[39;49m\u001b[43m:\u001b[49m\u001b[43m \u001b[49m\u001b[43mby\u001b[49m\u001b[43m,\u001b[49m\u001b[43m \u001b[49m\u001b[38;5;124;43m\"\u001b[39;49m\u001b[38;5;124;43mvalue\u001b[39;49m\u001b[38;5;124;43m\"\u001b[39;49m\u001b[43m:\u001b[49m\u001b[43m \u001b[49m\u001b[43mvalue\u001b[49m\u001b[43m}\u001b[49m\u001b[43m)\u001b[49m[\u001b[38;5;124m\"\u001b[39m\u001b[38;5;124mvalue\u001b[39m\u001b[38;5;124m\"\u001b[39m]\n",
      "File \u001b[1;32m~\\New folder\\lib\\site-packages\\selenium\\webdriver\\remote\\webdriver.py:347\u001b[0m, in \u001b[0;36mWebDriver.execute\u001b[1;34m(self, driver_command, params)\u001b[0m\n\u001b[0;32m    345\u001b[0m response \u001b[38;5;241m=\u001b[39m \u001b[38;5;28mself\u001b[39m\u001b[38;5;241m.\u001b[39mcommand_executor\u001b[38;5;241m.\u001b[39mexecute(driver_command, params)\n\u001b[0;32m    346\u001b[0m \u001b[38;5;28;01mif\u001b[39;00m response:\n\u001b[1;32m--> 347\u001b[0m     \u001b[38;5;28;43mself\u001b[39;49m\u001b[38;5;241;43m.\u001b[39;49m\u001b[43merror_handler\u001b[49m\u001b[38;5;241;43m.\u001b[39;49m\u001b[43mcheck_response\u001b[49m\u001b[43m(\u001b[49m\u001b[43mresponse\u001b[49m\u001b[43m)\u001b[49m\n\u001b[0;32m    348\u001b[0m     response[\u001b[38;5;124m\"\u001b[39m\u001b[38;5;124mvalue\u001b[39m\u001b[38;5;124m\"\u001b[39m] \u001b[38;5;241m=\u001b[39m \u001b[38;5;28mself\u001b[39m\u001b[38;5;241m.\u001b[39m_unwrap_value(response\u001b[38;5;241m.\u001b[39mget(\u001b[38;5;124m\"\u001b[39m\u001b[38;5;124mvalue\u001b[39m\u001b[38;5;124m\"\u001b[39m, \u001b[38;5;28;01mNone\u001b[39;00m))\n\u001b[0;32m    349\u001b[0m     \u001b[38;5;28;01mreturn\u001b[39;00m response\n",
      "File \u001b[1;32m~\\New folder\\lib\\site-packages\\selenium\\webdriver\\remote\\errorhandler.py:229\u001b[0m, in \u001b[0;36mErrorHandler.check_response\u001b[1;34m(self, response)\u001b[0m\n\u001b[0;32m    227\u001b[0m         alert_text \u001b[38;5;241m=\u001b[39m value[\u001b[38;5;124m\"\u001b[39m\u001b[38;5;124malert\u001b[39m\u001b[38;5;124m\"\u001b[39m]\u001b[38;5;241m.\u001b[39mget(\u001b[38;5;124m\"\u001b[39m\u001b[38;5;124mtext\u001b[39m\u001b[38;5;124m\"\u001b[39m)\n\u001b[0;32m    228\u001b[0m     \u001b[38;5;28;01mraise\u001b[39;00m exception_class(message, screen, stacktrace, alert_text)  \u001b[38;5;66;03m# type: ignore[call-arg]  # mypy is not smart enough here\u001b[39;00m\n\u001b[1;32m--> 229\u001b[0m \u001b[38;5;28;01mraise\u001b[39;00m exception_class(message, screen, stacktrace)\n",
      "\u001b[1;31mNoSuchElementException\u001b[0m: Message: no such element: Unable to locate element: {\"method\":\"xpath\",\"selector\":\"/html/body/div[1]/div[1]/div[1]/div[1]/div/span[1]/div[1]/div[67]/div/div/span/a[3]\"}\n  (Session info: chrome=121.0.6167.161); For documentation on this error, please visit: https://www.selenium.dev/documentation/webdriver/troubleshooting/errors#no-such-element-exception\nStacktrace:\n\tGetHandleVerifier [0x00007FF6C4937012+3522402]\n\t(No symbol) [0x00007FF6C4558352]\n\t(No symbol) [0x00007FF6C4405ABB]\n\t(No symbol) [0x00007FF6C444BF0E]\n\t(No symbol) [0x00007FF6C444C08C]\n\t(No symbol) [0x00007FF6C448E437]\n\t(No symbol) [0x00007FF6C446F09F]\n\t(No symbol) [0x00007FF6C448BDA3]\n\t(No symbol) [0x00007FF6C446EE03]\n\t(No symbol) [0x00007FF6C443F4D4]\n\t(No symbol) [0x00007FF6C44405F1]\n\tGetHandleVerifier [0x00007FF6C4969B9D+3730157]\n\tGetHandleVerifier [0x00007FF6C49BF02D+4079485]\n\tGetHandleVerifier [0x00007FF6C49B75D3+4048163]\n\tGetHandleVerifier [0x00007FF6C468A649+718233]\n\t(No symbol) [0x00007FF6C4564A3F]\n\t(No symbol) [0x00007FF6C455FA94]\n\t(No symbol) [0x00007FF6C455FBC2]\n\t(No symbol) [0x00007FF6C454F2E4]\n\tBaseThreadInitThunk [0x00007FFFC78C257D+29]\n\tRtlUserThreadStart [0x00007FFFC99EAA58+40]\n"
     ]
    }
   ],
   "source": [
    "prod_name=[]\n",
    "start=0\n",
    "end=3\n",
    "for page in range(start,end):\n",
    "    url=driver.find_elements(By.XPATH,'//span[@class=\"a-size-base-plus a-color-base a-text-normal\"]')\n",
    "    for i in url:\n",
    "        prod_name.append(i.text)\n",
    "    next_button=driver.find_element(By.XPATH,'/html/body/div[1]/div[1]/div[1]/div[1]/div/span[1]/div[1]/div[67]/div/div/span/a[3]')\n",
    "    next_button.click()\n",
    "    time.sleep(3)"
   ]
  },
  {
   "cell_type": "code",
   "execution_count": 63,
   "id": "69daa8d0",
   "metadata": {},
   "outputs": [
    {
     "data": {
      "text/plain": [
       "180"
      ]
     },
     "execution_count": 63,
     "metadata": {},
     "output_type": "execute_result"
    }
   ],
   "source": [
    "len(prod_name)"
   ]
  },
  {
   "cell_type": "code",
   "execution_count": null,
   "id": "c74b60d4",
   "metadata": {},
   "outputs": [],
   "source": [
    "product=[]\n",
    "for i in prod_name:\n",
    "    driver.get(i)\n",
    "    time.sleep(5)\n",
    "    try:\n",
    "        "
   ]
  },
  {
   "cell_type": "code",
   "execution_count": 64,
   "id": "5bbd0139",
   "metadata": {},
   "outputs": [],
   "source": [
    "price=[]\n",
    "start=0\n",
    "end=3\n",
    "for page in range(start,end):\n",
    "    url=driver.find_elements(By.XPATH,'//span[@class=\"a-price-whole\"]')\n",
    "    try:\n",
    "        url=driver.find_elements(By.XPATH,'//span[@class=\"a-price-whole\"]')\n",
    "        \n",
    "    for i in url:\n",
    "        price.append(i.text)\n",
    "    next_button=driver.find_element(By.XPATH,'/html/body/div[1]/div[1]/div[1]/div[1]/div/span[1]/div[1]/div[67]/div/div/span/a[3]')\n",
    "    next_button.click()\n",
    "    time.sleep(3)"
   ]
  },
  {
   "cell_type": "code",
   "execution_count": 76,
   "id": "09309803",
   "metadata": {},
   "outputs": [
    {
     "data": {
      "text/plain": [
       "190"
      ]
     },
     "execution_count": 76,
     "metadata": {},
     "output_type": "execute_result"
    }
   ],
   "source": [
    "len(price)"
   ]
  },
  {
   "cell_type": "code",
   "execution_count": 66,
   "id": "18aef3a2",
   "metadata": {},
   "outputs": [],
   "source": [
    "Exp_del=[]\n",
    "start=0\n",
    "end=3\n",
    "for page in range(start,end):\n",
    "    url=driver.find_elements(By.XPATH,'//span[@class=\"a-color-base a-text-bold\"]')\n",
    "    for i in url:\n",
    "        Exp_del.append(i.text)\n",
    "    next_button=driver.find_element(By.XPATH,'/html/body/div[1]/div[1]/div[1]/div[1]/div/span[1]/div[1]/div[67]/div/div/span/a[3]')\n",
    "    next_button.click()\n",
    "    time.sleep(3)"
   ]
  },
  {
   "cell_type": "code",
   "execution_count": 74,
   "id": "2df0a076",
   "metadata": {},
   "outputs": [
    {
     "data": {
      "text/plain": [
       "188"
      ]
     },
     "execution_count": 74,
     "metadata": {},
     "output_type": "execute_result"
    }
   ],
   "source": [
    "len(Exp_del)"
   ]
  },
  {
   "cell_type": "code",
   "execution_count": 78,
   "id": "077d8996",
   "metadata": {},
   "outputs": [
    {
     "data": {
      "text/plain": [
       "183"
      ]
     },
     "execution_count": 78,
     "metadata": {},
     "output_type": "execute_result"
    }
   ],
   "source": [
    "len(prod_url)"
   ]
  },
  {
   "cell_type": "code",
   "execution_count": 72,
   "id": "33463be8",
   "metadata": {},
   "outputs": [
    {
     "ename": "TypeError",
     "evalue": "'list' object is not callable",
     "output_type": "error",
     "traceback": [
      "\u001b[1;31m---------------------------------------------------------------------------\u001b[0m",
      "\u001b[1;31mTypeError\u001b[0m                                 Traceback (most recent call last)",
      "Cell \u001b[1;32mIn[72], line 1\u001b[0m\n\u001b[1;32m----> 1\u001b[0m df\u001b[38;5;241m=\u001b[39mpd\u001b[38;5;241m.\u001b[39mDataFrame({\u001b[38;5;124m'\u001b[39m\u001b[38;5;124mName of the Product\u001b[39m\u001b[38;5;124m'\u001b[39m:\u001b[43mprod_name\u001b[49m\u001b[43m(\u001b[49m\u001b[38;5;241;43m180\u001b[39;49m\u001b[43m)\u001b[49m,\u001b[38;5;124m'\u001b[39m\u001b[38;5;124mPrice\u001b[39m\u001b[38;5;124m'\u001b[39m:price(\u001b[38;5;241m180\u001b[39m),\u001b[38;5;124m'\u001b[39m\u001b[38;5;124mExpected Delivery\u001b[39m\u001b[38;5;124m'\u001b[39m:Exp_del(\u001b[38;5;241m180\u001b[39m),\u001b[38;5;124m'\u001b[39m\u001b[38;5;124mURL\u001b[39m\u001b[38;5;124m'\u001b[39m:prod_url(\u001b[38;5;241m180\u001b[39m)})\n\u001b[0;32m      2\u001b[0m df\u001b[38;5;241m.\u001b[39mhead()\n",
      "\u001b[1;31mTypeError\u001b[0m: 'list' object is not callable"
     ]
    }
   ],
   "source": [
    "df=pd.DataFrame({'Name of the Product':prod_name,'Price':price,'Expected Delivery':Exp_del,'URL':prod_url})\n",
    "df.head()"
   ]
  },
  {
   "cell_type": "code",
   "execution_count": 174,
   "id": "d24cb273",
   "metadata": {},
   "outputs": [],
   "source": [
    "driver=webdriver.Chrome()"
   ]
  },
  {
   "cell_type": "code",
   "execution_count": 175,
   "id": "aacd79be",
   "metadata": {},
   "outputs": [],
   "source": [
    "driver.get(\"https://images.google.com/\")"
   ]
  },
  {
   "cell_type": "code",
   "execution_count": 176,
   "id": "9c9ff25d",
   "metadata": {},
   "outputs": [],
   "source": [
    "search=driver.find_element(By.XPATH,'/html/body/div[1]/div[3]/form/div[1]/div[1]/div[1]/div/div[2]/textarea')\n",
    "search.send_keys('fruits')"
   ]
  },
  {
   "cell_type": "code",
   "execution_count": 179,
   "id": "42a8b6b0",
   "metadata": {},
   "outputs": [],
   "source": [
    "sear_button=driver.find_element(By.XPATH,'/html/body/div[1]/div[3]/form/div[1]/div[1]/div[1]/button/div/span')\n",
    "sear_button.click()"
   ]
  },
  {
   "cell_type": "code",
   "execution_count": 198,
   "id": "0a378398",
   "metadata": {},
   "outputs": [],
   "source": [
    "img=[]\n",
    "\n",
    "image=driver.find_elements(By.XPATH,'//img[@class=\"rg_i Q4LuWd\"]')\n",
    "for imag in image:\n",
    "    img.append(image)\n",
    "    "
   ]
  },
  {
   "cell_type": "code",
   "execution_count": 199,
   "id": "b53cf4fd",
   "metadata": {},
   "outputs": [
    {
     "data": {
      "text/plain": [
       "48"
      ]
     },
     "execution_count": 199,
     "metadata": {},
     "output_type": "execute_result"
    }
   ],
   "source": [
    "len(img)"
   ]
  },
  {
   "cell_type": "code",
   "execution_count": 230,
   "id": "2adfe2ee",
   "metadata": {},
   "outputs": [
    {
     "data": {
      "text/plain": [
       "10"
      ]
     },
     "execution_count": 230,
     "metadata": {},
     "output_type": "execute_result"
    }
   ],
   "source": [
    "Image_fruits=img[0:10]\n",
    "len(Image_fruits)"
   ]
  },
  {
   "cell_type": "code",
   "execution_count": 206,
   "id": "e78ffc93",
   "metadata": {},
   "outputs": [],
   "source": [
    "driver=webdriver.Chrome()"
   ]
  },
  {
   "cell_type": "code",
   "execution_count": 207,
   "id": "6d5b2874",
   "metadata": {},
   "outputs": [],
   "source": [
    "driver.get(\"https://images.google.com/\")"
   ]
  },
  {
   "cell_type": "code",
   "execution_count": 208,
   "id": "a34f1c19",
   "metadata": {},
   "outputs": [],
   "source": [
    "search=driver.find_element(By.XPATH,'/html/body/div[1]/div[3]/form/div[1]/div[1]/div[1]/div/div[2]/textarea')\n",
    "search.send_keys('cars')"
   ]
  },
  {
   "cell_type": "code",
   "execution_count": 210,
   "id": "db4c73c0",
   "metadata": {},
   "outputs": [],
   "source": [
    "sear_button=driver.find_element(By.XPATH,'/html/body/div[1]/div[3]/form/div[1]/div[1]/div[1]/button/div/span')\n",
    "sear_button.click()"
   ]
  },
  {
   "cell_type": "code",
   "execution_count": 211,
   "id": "d66b62e5",
   "metadata": {},
   "outputs": [],
   "source": [
    "img=[]\n",
    "\n",
    "image=driver.find_elements(By.XPATH,'//img[@class=\"rg_i Q4LuWd\"]')\n",
    "for imag in image:\n",
    "    img.append(image)"
   ]
  },
  {
   "cell_type": "code",
   "execution_count": 212,
   "id": "58a5a0dd",
   "metadata": {},
   "outputs": [
    {
     "data": {
      "text/plain": [
       "10"
      ]
     },
     "execution_count": 212,
     "metadata": {},
     "output_type": "execute_result"
    }
   ],
   "source": [
    "Image_cars=img[0:10]\n",
    "len(Image_cars)"
   ]
  },
  {
   "cell_type": "code",
   "execution_count": 213,
   "id": "fd75b69b",
   "metadata": {},
   "outputs": [],
   "source": [
    "driver=webdriver.Chrome()"
   ]
  },
  {
   "cell_type": "code",
   "execution_count": 214,
   "id": "057fc97f",
   "metadata": {},
   "outputs": [],
   "source": [
    "driver.get(\"https://images.google.com/\")"
   ]
  },
  {
   "cell_type": "code",
   "execution_count": 221,
   "id": "f7c06420",
   "metadata": {},
   "outputs": [
    {
     "ename": "WebDriverException",
     "evalue": "Message: disconnected: not connected to DevTools\n  (failed to check if window was closed: disconnected: not connected to DevTools)\n  (Session info: chrome=121.0.6167.161)\nStacktrace:\n\tGetHandleVerifier [0x00007FF6B1085E42+3538674]\n\t(No symbol) [0x00007FF6B0CA4C02]\n\t(No symbol) [0x00007FF6B0B55AEB]\n\t(No symbol) [0x00007FF6B0B4273F]\n\t(No symbol) [0x00007FF6B0B422B0]\n\t(No symbol) [0x00007FF6B0B57BF1]\n\t(No symbol) [0x00007FF6B0BDB437]\n\t(No symbol) [0x00007FF6B0BBEE53]\n\t(No symbol) [0x00007FF6B0B8F514]\n\t(No symbol) [0x00007FF6B0B90631]\n\tGetHandleVerifier [0x00007FF6B10B6CAD+3738973]\n\tGetHandleVerifier [0x00007FF6B110C506+4089270]\n\tGetHandleVerifier [0x00007FF6B1104823+4057299]\n\tGetHandleVerifier [0x00007FF6B0DD5C49+720121]\n\t(No symbol) [0x00007FF6B0CB126F]\n\t(No symbol) [0x00007FF6B0CAC304]\n\t(No symbol) [0x00007FF6B0CAC432]\n\t(No symbol) [0x00007FF6B0C9BD04]\n\tBaseThreadInitThunk [0x00007FFFC78C257D+29]\n\tRtlUserThreadStart [0x00007FFFC99EAA58+40]\n",
     "output_type": "error",
     "traceback": [
      "\u001b[1;31m---------------------------------------------------------------------------\u001b[0m",
      "\u001b[1;31mWebDriverException\u001b[0m                        Traceback (most recent call last)",
      "Cell \u001b[1;32mIn[221], line 1\u001b[0m\n\u001b[1;32m----> 1\u001b[0m search\u001b[38;5;241m=\u001b[39m\u001b[43mdriver\u001b[49m\u001b[38;5;241;43m.\u001b[39;49m\u001b[43mfind_element\u001b[49m\u001b[43m(\u001b[49m\u001b[43mBy\u001b[49m\u001b[38;5;241;43m.\u001b[39;49m\u001b[43mXPATH\u001b[49m\u001b[43m,\u001b[49m\u001b[38;5;124;43m'\u001b[39;49m\u001b[38;5;124;43m/html/body/div[1]/div[3]/form/div[1]/div[1]/div[1]/div/div[2]/textarea\u001b[39;49m\u001b[38;5;124;43m'\u001b[39;49m\u001b[43m)\u001b[49m\n\u001b[0;32m      2\u001b[0m search\u001b[38;5;241m.\u001b[39msend_keys(\u001b[38;5;124m'\u001b[39m\u001b[38;5;124mMachine Learning\u001b[39m\u001b[38;5;124m'\u001b[39m)\n",
      "File \u001b[1;32m~\\New folder\\lib\\site-packages\\selenium\\webdriver\\remote\\webdriver.py:741\u001b[0m, in \u001b[0;36mWebDriver.find_element\u001b[1;34m(self, by, value)\u001b[0m\n\u001b[0;32m    738\u001b[0m     by \u001b[38;5;241m=\u001b[39m By\u001b[38;5;241m.\u001b[39mCSS_SELECTOR\n\u001b[0;32m    739\u001b[0m     value \u001b[38;5;241m=\u001b[39m \u001b[38;5;124mf\u001b[39m\u001b[38;5;124m'\u001b[39m\u001b[38;5;124m[name=\u001b[39m\u001b[38;5;124m\"\u001b[39m\u001b[38;5;132;01m{\u001b[39;00mvalue\u001b[38;5;132;01m}\u001b[39;00m\u001b[38;5;124m\"\u001b[39m\u001b[38;5;124m]\u001b[39m\u001b[38;5;124m'\u001b[39m\n\u001b[1;32m--> 741\u001b[0m \u001b[38;5;28;01mreturn\u001b[39;00m \u001b[38;5;28;43mself\u001b[39;49m\u001b[38;5;241;43m.\u001b[39;49m\u001b[43mexecute\u001b[49m\u001b[43m(\u001b[49m\u001b[43mCommand\u001b[49m\u001b[38;5;241;43m.\u001b[39;49m\u001b[43mFIND_ELEMENT\u001b[49m\u001b[43m,\u001b[49m\u001b[43m \u001b[49m\u001b[43m{\u001b[49m\u001b[38;5;124;43m\"\u001b[39;49m\u001b[38;5;124;43musing\u001b[39;49m\u001b[38;5;124;43m\"\u001b[39;49m\u001b[43m:\u001b[49m\u001b[43m \u001b[49m\u001b[43mby\u001b[49m\u001b[43m,\u001b[49m\u001b[43m \u001b[49m\u001b[38;5;124;43m\"\u001b[39;49m\u001b[38;5;124;43mvalue\u001b[39;49m\u001b[38;5;124;43m\"\u001b[39;49m\u001b[43m:\u001b[49m\u001b[43m \u001b[49m\u001b[43mvalue\u001b[49m\u001b[43m}\u001b[49m\u001b[43m)\u001b[49m[\u001b[38;5;124m\"\u001b[39m\u001b[38;5;124mvalue\u001b[39m\u001b[38;5;124m\"\u001b[39m]\n",
      "File \u001b[1;32m~\\New folder\\lib\\site-packages\\selenium\\webdriver\\remote\\webdriver.py:347\u001b[0m, in \u001b[0;36mWebDriver.execute\u001b[1;34m(self, driver_command, params)\u001b[0m\n\u001b[0;32m    345\u001b[0m response \u001b[38;5;241m=\u001b[39m \u001b[38;5;28mself\u001b[39m\u001b[38;5;241m.\u001b[39mcommand_executor\u001b[38;5;241m.\u001b[39mexecute(driver_command, params)\n\u001b[0;32m    346\u001b[0m \u001b[38;5;28;01mif\u001b[39;00m response:\n\u001b[1;32m--> 347\u001b[0m     \u001b[38;5;28;43mself\u001b[39;49m\u001b[38;5;241;43m.\u001b[39;49m\u001b[43merror_handler\u001b[49m\u001b[38;5;241;43m.\u001b[39;49m\u001b[43mcheck_response\u001b[49m\u001b[43m(\u001b[49m\u001b[43mresponse\u001b[49m\u001b[43m)\u001b[49m\n\u001b[0;32m    348\u001b[0m     response[\u001b[38;5;124m\"\u001b[39m\u001b[38;5;124mvalue\u001b[39m\u001b[38;5;124m\"\u001b[39m] \u001b[38;5;241m=\u001b[39m \u001b[38;5;28mself\u001b[39m\u001b[38;5;241m.\u001b[39m_unwrap_value(response\u001b[38;5;241m.\u001b[39mget(\u001b[38;5;124m\"\u001b[39m\u001b[38;5;124mvalue\u001b[39m\u001b[38;5;124m\"\u001b[39m, \u001b[38;5;28;01mNone\u001b[39;00m))\n\u001b[0;32m    349\u001b[0m     \u001b[38;5;28;01mreturn\u001b[39;00m response\n",
      "File \u001b[1;32m~\\New folder\\lib\\site-packages\\selenium\\webdriver\\remote\\errorhandler.py:229\u001b[0m, in \u001b[0;36mErrorHandler.check_response\u001b[1;34m(self, response)\u001b[0m\n\u001b[0;32m    227\u001b[0m         alert_text \u001b[38;5;241m=\u001b[39m value[\u001b[38;5;124m\"\u001b[39m\u001b[38;5;124malert\u001b[39m\u001b[38;5;124m\"\u001b[39m]\u001b[38;5;241m.\u001b[39mget(\u001b[38;5;124m\"\u001b[39m\u001b[38;5;124mtext\u001b[39m\u001b[38;5;124m\"\u001b[39m)\n\u001b[0;32m    228\u001b[0m     \u001b[38;5;28;01mraise\u001b[39;00m exception_class(message, screen, stacktrace, alert_text)  \u001b[38;5;66;03m# type: ignore[call-arg]  # mypy is not smart enough here\u001b[39;00m\n\u001b[1;32m--> 229\u001b[0m \u001b[38;5;28;01mraise\u001b[39;00m exception_class(message, screen, stacktrace)\n",
      "\u001b[1;31mWebDriverException\u001b[0m: Message: disconnected: not connected to DevTools\n  (failed to check if window was closed: disconnected: not connected to DevTools)\n  (Session info: chrome=121.0.6167.161)\nStacktrace:\n\tGetHandleVerifier [0x00007FF6B1085E42+3538674]\n\t(No symbol) [0x00007FF6B0CA4C02]\n\t(No symbol) [0x00007FF6B0B55AEB]\n\t(No symbol) [0x00007FF6B0B4273F]\n\t(No symbol) [0x00007FF6B0B422B0]\n\t(No symbol) [0x00007FF6B0B57BF1]\n\t(No symbol) [0x00007FF6B0BDB437]\n\t(No symbol) [0x00007FF6B0BBEE53]\n\t(No symbol) [0x00007FF6B0B8F514]\n\t(No symbol) [0x00007FF6B0B90631]\n\tGetHandleVerifier [0x00007FF6B10B6CAD+3738973]\n\tGetHandleVerifier [0x00007FF6B110C506+4089270]\n\tGetHandleVerifier [0x00007FF6B1104823+4057299]\n\tGetHandleVerifier [0x00007FF6B0DD5C49+720121]\n\t(No symbol) [0x00007FF6B0CB126F]\n\t(No symbol) [0x00007FF6B0CAC304]\n\t(No symbol) [0x00007FF6B0CAC432]\n\t(No symbol) [0x00007FF6B0C9BD04]\n\tBaseThreadInitThunk [0x00007FFFC78C257D+29]\n\tRtlUserThreadStart [0x00007FFFC99EAA58+40]\n"
     ]
    }
   ],
   "source": [
    "search=driver.find_element(By.XPATH,'/html/body/div[1]/div[3]/form/div[1]/div[1]/div[1]/div/div[2]/textarea')\n",
    "search.send_keys('Machine Learning')"
   ]
  },
  {
   "cell_type": "code",
   "execution_count": 222,
   "id": "9b0168c7",
   "metadata": {},
   "outputs": [
    {
     "ename": "WebDriverException",
     "evalue": "Message: disconnected: not connected to DevTools\n  (failed to check if window was closed: disconnected: not connected to DevTools)\n  (Session info: chrome=121.0.6167.161)\nStacktrace:\n\tGetHandleVerifier [0x00007FF6B1085E42+3538674]\n\t(No symbol) [0x00007FF6B0CA4C02]\n\t(No symbol) [0x00007FF6B0B55AEB]\n\t(No symbol) [0x00007FF6B0B4273F]\n\t(No symbol) [0x00007FF6B0B422B0]\n\t(No symbol) [0x00007FF6B0B57BF1]\n\t(No symbol) [0x00007FF6B0BDB437]\n\t(No symbol) [0x00007FF6B0BBEE53]\n\t(No symbol) [0x00007FF6B0B8F514]\n\t(No symbol) [0x00007FF6B0B90631]\n\tGetHandleVerifier [0x00007FF6B10B6CAD+3738973]\n\tGetHandleVerifier [0x00007FF6B110C506+4089270]\n\tGetHandleVerifier [0x00007FF6B1104823+4057299]\n\tGetHandleVerifier [0x00007FF6B0DD5C49+720121]\n\t(No symbol) [0x00007FF6B0CB126F]\n\t(No symbol) [0x00007FF6B0CAC304]\n\t(No symbol) [0x00007FF6B0CAC432]\n\t(No symbol) [0x00007FF6B0C9BD04]\n\tBaseThreadInitThunk [0x00007FFFC78C257D+29]\n\tRtlUserThreadStart [0x00007FFFC99EAA58+40]\n",
     "output_type": "error",
     "traceback": [
      "\u001b[1;31m---------------------------------------------------------------------------\u001b[0m",
      "\u001b[1;31mWebDriverException\u001b[0m                        Traceback (most recent call last)",
      "Cell \u001b[1;32mIn[222], line 1\u001b[0m\n\u001b[1;32m----> 1\u001b[0m sear_button\u001b[38;5;241m=\u001b[39m\u001b[43mdriver\u001b[49m\u001b[38;5;241;43m.\u001b[39;49m\u001b[43mfind_element\u001b[49m\u001b[43m(\u001b[49m\u001b[43mBy\u001b[49m\u001b[38;5;241;43m.\u001b[39;49m\u001b[43mXPATH\u001b[49m\u001b[43m,\u001b[49m\u001b[38;5;124;43m'\u001b[39;49m\u001b[38;5;124;43m/html/body/div[1]/div[3]/form/div[1]/div[1]/div[1]/button/div/span\u001b[39;49m\u001b[38;5;124;43m'\u001b[39;49m\u001b[43m)\u001b[49m\n\u001b[0;32m      2\u001b[0m sear_button\u001b[38;5;241m.\u001b[39mclick()\n",
      "File \u001b[1;32m~\\New folder\\lib\\site-packages\\selenium\\webdriver\\remote\\webdriver.py:741\u001b[0m, in \u001b[0;36mWebDriver.find_element\u001b[1;34m(self, by, value)\u001b[0m\n\u001b[0;32m    738\u001b[0m     by \u001b[38;5;241m=\u001b[39m By\u001b[38;5;241m.\u001b[39mCSS_SELECTOR\n\u001b[0;32m    739\u001b[0m     value \u001b[38;5;241m=\u001b[39m \u001b[38;5;124mf\u001b[39m\u001b[38;5;124m'\u001b[39m\u001b[38;5;124m[name=\u001b[39m\u001b[38;5;124m\"\u001b[39m\u001b[38;5;132;01m{\u001b[39;00mvalue\u001b[38;5;132;01m}\u001b[39;00m\u001b[38;5;124m\"\u001b[39m\u001b[38;5;124m]\u001b[39m\u001b[38;5;124m'\u001b[39m\n\u001b[1;32m--> 741\u001b[0m \u001b[38;5;28;01mreturn\u001b[39;00m \u001b[38;5;28;43mself\u001b[39;49m\u001b[38;5;241;43m.\u001b[39;49m\u001b[43mexecute\u001b[49m\u001b[43m(\u001b[49m\u001b[43mCommand\u001b[49m\u001b[38;5;241;43m.\u001b[39;49m\u001b[43mFIND_ELEMENT\u001b[49m\u001b[43m,\u001b[49m\u001b[43m \u001b[49m\u001b[43m{\u001b[49m\u001b[38;5;124;43m\"\u001b[39;49m\u001b[38;5;124;43musing\u001b[39;49m\u001b[38;5;124;43m\"\u001b[39;49m\u001b[43m:\u001b[49m\u001b[43m \u001b[49m\u001b[43mby\u001b[49m\u001b[43m,\u001b[49m\u001b[43m \u001b[49m\u001b[38;5;124;43m\"\u001b[39;49m\u001b[38;5;124;43mvalue\u001b[39;49m\u001b[38;5;124;43m\"\u001b[39;49m\u001b[43m:\u001b[49m\u001b[43m \u001b[49m\u001b[43mvalue\u001b[49m\u001b[43m}\u001b[49m\u001b[43m)\u001b[49m[\u001b[38;5;124m\"\u001b[39m\u001b[38;5;124mvalue\u001b[39m\u001b[38;5;124m\"\u001b[39m]\n",
      "File \u001b[1;32m~\\New folder\\lib\\site-packages\\selenium\\webdriver\\remote\\webdriver.py:347\u001b[0m, in \u001b[0;36mWebDriver.execute\u001b[1;34m(self, driver_command, params)\u001b[0m\n\u001b[0;32m    345\u001b[0m response \u001b[38;5;241m=\u001b[39m \u001b[38;5;28mself\u001b[39m\u001b[38;5;241m.\u001b[39mcommand_executor\u001b[38;5;241m.\u001b[39mexecute(driver_command, params)\n\u001b[0;32m    346\u001b[0m \u001b[38;5;28;01mif\u001b[39;00m response:\n\u001b[1;32m--> 347\u001b[0m     \u001b[38;5;28;43mself\u001b[39;49m\u001b[38;5;241;43m.\u001b[39;49m\u001b[43merror_handler\u001b[49m\u001b[38;5;241;43m.\u001b[39;49m\u001b[43mcheck_response\u001b[49m\u001b[43m(\u001b[49m\u001b[43mresponse\u001b[49m\u001b[43m)\u001b[49m\n\u001b[0;32m    348\u001b[0m     response[\u001b[38;5;124m\"\u001b[39m\u001b[38;5;124mvalue\u001b[39m\u001b[38;5;124m\"\u001b[39m] \u001b[38;5;241m=\u001b[39m \u001b[38;5;28mself\u001b[39m\u001b[38;5;241m.\u001b[39m_unwrap_value(response\u001b[38;5;241m.\u001b[39mget(\u001b[38;5;124m\"\u001b[39m\u001b[38;5;124mvalue\u001b[39m\u001b[38;5;124m\"\u001b[39m, \u001b[38;5;28;01mNone\u001b[39;00m))\n\u001b[0;32m    349\u001b[0m     \u001b[38;5;28;01mreturn\u001b[39;00m response\n",
      "File \u001b[1;32m~\\New folder\\lib\\site-packages\\selenium\\webdriver\\remote\\errorhandler.py:229\u001b[0m, in \u001b[0;36mErrorHandler.check_response\u001b[1;34m(self, response)\u001b[0m\n\u001b[0;32m    227\u001b[0m         alert_text \u001b[38;5;241m=\u001b[39m value[\u001b[38;5;124m\"\u001b[39m\u001b[38;5;124malert\u001b[39m\u001b[38;5;124m\"\u001b[39m]\u001b[38;5;241m.\u001b[39mget(\u001b[38;5;124m\"\u001b[39m\u001b[38;5;124mtext\u001b[39m\u001b[38;5;124m\"\u001b[39m)\n\u001b[0;32m    228\u001b[0m     \u001b[38;5;28;01mraise\u001b[39;00m exception_class(message, screen, stacktrace, alert_text)  \u001b[38;5;66;03m# type: ignore[call-arg]  # mypy is not smart enough here\u001b[39;00m\n\u001b[1;32m--> 229\u001b[0m \u001b[38;5;28;01mraise\u001b[39;00m exception_class(message, screen, stacktrace)\n",
      "\u001b[1;31mWebDriverException\u001b[0m: Message: disconnected: not connected to DevTools\n  (failed to check if window was closed: disconnected: not connected to DevTools)\n  (Session info: chrome=121.0.6167.161)\nStacktrace:\n\tGetHandleVerifier [0x00007FF6B1085E42+3538674]\n\t(No symbol) [0x00007FF6B0CA4C02]\n\t(No symbol) [0x00007FF6B0B55AEB]\n\t(No symbol) [0x00007FF6B0B4273F]\n\t(No symbol) [0x00007FF6B0B422B0]\n\t(No symbol) [0x00007FF6B0B57BF1]\n\t(No symbol) [0x00007FF6B0BDB437]\n\t(No symbol) [0x00007FF6B0BBEE53]\n\t(No symbol) [0x00007FF6B0B8F514]\n\t(No symbol) [0x00007FF6B0B90631]\n\tGetHandleVerifier [0x00007FF6B10B6CAD+3738973]\n\tGetHandleVerifier [0x00007FF6B110C506+4089270]\n\tGetHandleVerifier [0x00007FF6B1104823+4057299]\n\tGetHandleVerifier [0x00007FF6B0DD5C49+720121]\n\t(No symbol) [0x00007FF6B0CB126F]\n\t(No symbol) [0x00007FF6B0CAC304]\n\t(No symbol) [0x00007FF6B0CAC432]\n\t(No symbol) [0x00007FF6B0C9BD04]\n\tBaseThreadInitThunk [0x00007FFFC78C257D+29]\n\tRtlUserThreadStart [0x00007FFFC99EAA58+40]\n"
     ]
    }
   ],
   "source": [
    "sear_button=driver.find_element(By.XPATH,'/html/body/div[1]/div[3]/form/div[1]/div[1]/div[1]/button/div/span')\n",
    "sear_button.click()"
   ]
  },
  {
   "cell_type": "code",
   "execution_count": 218,
   "id": "796eef53",
   "metadata": {},
   "outputs": [],
   "source": [
    "img=[]\n",
    "\n",
    "image=driver.find_elements(By.XPATH,'//img[@class=\"rg_i Q4LuWd\"]')\n",
    "for imag in image:\n",
    "    img.append(image)"
   ]
  },
  {
   "cell_type": "code",
   "execution_count": 219,
   "id": "47e2f1e8",
   "metadata": {},
   "outputs": [
    {
     "data": {
      "text/plain": [
       "10"
      ]
     },
     "execution_count": 219,
     "metadata": {},
     "output_type": "execute_result"
    }
   ],
   "source": [
    "Image_ML=img[0:10]\n",
    "len(Image_ML)"
   ]
  },
  {
   "cell_type": "code",
   "execution_count": 223,
   "id": "582dbdbf",
   "metadata": {},
   "outputs": [],
   "source": [
    "driver=webdriver.Chrome()"
   ]
  },
  {
   "cell_type": "code",
   "execution_count": 224,
   "id": "8b7dfff1",
   "metadata": {},
   "outputs": [],
   "source": [
    "driver.get(\"https://images.google.com/\")"
   ]
  },
  {
   "cell_type": "code",
   "execution_count": 225,
   "id": "8d2301ff",
   "metadata": {},
   "outputs": [],
   "source": [
    "search=driver.find_element(By.XPATH,'/html/body/div[1]/div[3]/form/div[1]/div[1]/div[1]/div/div[2]/textarea')\n",
    "search.send_keys('guitar')"
   ]
  },
  {
   "cell_type": "code",
   "execution_count": 227,
   "id": "841fa1a9",
   "metadata": {},
   "outputs": [],
   "source": [
    "sear_button=driver.find_element(By.XPATH,'/html/body/div[1]/div[3]/form/div[1]/div[1]/div[1]/button/div/span')\n",
    "sear_button.click()"
   ]
  },
  {
   "cell_type": "code",
   "execution_count": 231,
   "id": "85f40a34",
   "metadata": {},
   "outputs": [],
   "source": [
    "img=[]\n",
    "\n",
    "image=driver.find_elements(By.XPATH,'//img[@class=\"rg_i Q4LuWd\"]')\n",
    "for imag in image:\n",
    "    img.append(image)"
   ]
  },
  {
   "cell_type": "code",
   "execution_count": 232,
   "id": "d2538ce6",
   "metadata": {},
   "outputs": [
    {
     "data": {
      "text/plain": [
       "10"
      ]
     },
     "execution_count": 232,
     "metadata": {},
     "output_type": "execute_result"
    }
   ],
   "source": [
    "Image_guitar=img[0:10]\n",
    "len(Image_guitar)"
   ]
  },
  {
   "cell_type": "code",
   "execution_count": 233,
   "id": "f15ea616",
   "metadata": {},
   "outputs": [
    {
     "data": {
      "text/html": [
       "<div>\n",
       "<style scoped>\n",
       "    .dataframe tbody tr th:only-of-type {\n",
       "        vertical-align: middle;\n",
       "    }\n",
       "\n",
       "    .dataframe tbody tr th {\n",
       "        vertical-align: top;\n",
       "    }\n",
       "\n",
       "    .dataframe thead th {\n",
       "        text-align: right;\n",
       "    }\n",
       "</style>\n",
       "<table border=\"1\" class=\"dataframe\">\n",
       "  <thead>\n",
       "    <tr style=\"text-align: right;\">\n",
       "      <th></th>\n",
       "      <th>Fruit</th>\n",
       "      <th>Cars</th>\n",
       "      <th>ML</th>\n",
       "      <th>Guitar</th>\n",
       "    </tr>\n",
       "  </thead>\n",
       "  <tbody>\n",
       "    <tr>\n",
       "      <th>0</th>\n",
       "      <td>[&lt;selenium.webdriver.remote.webelement.WebElem...</td>\n",
       "      <td>[&lt;selenium.webdriver.remote.webelement.WebElem...</td>\n",
       "      <td>[&lt;selenium.webdriver.remote.webelement.WebElem...</td>\n",
       "      <td>[&lt;selenium.webdriver.remote.webelement.WebElem...</td>\n",
       "    </tr>\n",
       "    <tr>\n",
       "      <th>1</th>\n",
       "      <td>[&lt;selenium.webdriver.remote.webelement.WebElem...</td>\n",
       "      <td>[&lt;selenium.webdriver.remote.webelement.WebElem...</td>\n",
       "      <td>[&lt;selenium.webdriver.remote.webelement.WebElem...</td>\n",
       "      <td>[&lt;selenium.webdriver.remote.webelement.WebElem...</td>\n",
       "    </tr>\n",
       "    <tr>\n",
       "      <th>2</th>\n",
       "      <td>[&lt;selenium.webdriver.remote.webelement.WebElem...</td>\n",
       "      <td>[&lt;selenium.webdriver.remote.webelement.WebElem...</td>\n",
       "      <td>[&lt;selenium.webdriver.remote.webelement.WebElem...</td>\n",
       "      <td>[&lt;selenium.webdriver.remote.webelement.WebElem...</td>\n",
       "    </tr>\n",
       "    <tr>\n",
       "      <th>3</th>\n",
       "      <td>[&lt;selenium.webdriver.remote.webelement.WebElem...</td>\n",
       "      <td>[&lt;selenium.webdriver.remote.webelement.WebElem...</td>\n",
       "      <td>[&lt;selenium.webdriver.remote.webelement.WebElem...</td>\n",
       "      <td>[&lt;selenium.webdriver.remote.webelement.WebElem...</td>\n",
       "    </tr>\n",
       "    <tr>\n",
       "      <th>4</th>\n",
       "      <td>[&lt;selenium.webdriver.remote.webelement.WebElem...</td>\n",
       "      <td>[&lt;selenium.webdriver.remote.webelement.WebElem...</td>\n",
       "      <td>[&lt;selenium.webdriver.remote.webelement.WebElem...</td>\n",
       "      <td>[&lt;selenium.webdriver.remote.webelement.WebElem...</td>\n",
       "    </tr>\n",
       "    <tr>\n",
       "      <th>5</th>\n",
       "      <td>[&lt;selenium.webdriver.remote.webelement.WebElem...</td>\n",
       "      <td>[&lt;selenium.webdriver.remote.webelement.WebElem...</td>\n",
       "      <td>[&lt;selenium.webdriver.remote.webelement.WebElem...</td>\n",
       "      <td>[&lt;selenium.webdriver.remote.webelement.WebElem...</td>\n",
       "    </tr>\n",
       "    <tr>\n",
       "      <th>6</th>\n",
       "      <td>[&lt;selenium.webdriver.remote.webelement.WebElem...</td>\n",
       "      <td>[&lt;selenium.webdriver.remote.webelement.WebElem...</td>\n",
       "      <td>[&lt;selenium.webdriver.remote.webelement.WebElem...</td>\n",
       "      <td>[&lt;selenium.webdriver.remote.webelement.WebElem...</td>\n",
       "    </tr>\n",
       "    <tr>\n",
       "      <th>7</th>\n",
       "      <td>[&lt;selenium.webdriver.remote.webelement.WebElem...</td>\n",
       "      <td>[&lt;selenium.webdriver.remote.webelement.WebElem...</td>\n",
       "      <td>[&lt;selenium.webdriver.remote.webelement.WebElem...</td>\n",
       "      <td>[&lt;selenium.webdriver.remote.webelement.WebElem...</td>\n",
       "    </tr>\n",
       "    <tr>\n",
       "      <th>8</th>\n",
       "      <td>[&lt;selenium.webdriver.remote.webelement.WebElem...</td>\n",
       "      <td>[&lt;selenium.webdriver.remote.webelement.WebElem...</td>\n",
       "      <td>[&lt;selenium.webdriver.remote.webelement.WebElem...</td>\n",
       "      <td>[&lt;selenium.webdriver.remote.webelement.WebElem...</td>\n",
       "    </tr>\n",
       "    <tr>\n",
       "      <th>9</th>\n",
       "      <td>[&lt;selenium.webdriver.remote.webelement.WebElem...</td>\n",
       "      <td>[&lt;selenium.webdriver.remote.webelement.WebElem...</td>\n",
       "      <td>[&lt;selenium.webdriver.remote.webelement.WebElem...</td>\n",
       "      <td>[&lt;selenium.webdriver.remote.webelement.WebElem...</td>\n",
       "    </tr>\n",
       "  </tbody>\n",
       "</table>\n",
       "</div>"
      ],
      "text/plain": [
       "                                               Fruit  \\\n",
       "0  [<selenium.webdriver.remote.webelement.WebElem...   \n",
       "1  [<selenium.webdriver.remote.webelement.WebElem...   \n",
       "2  [<selenium.webdriver.remote.webelement.WebElem...   \n",
       "3  [<selenium.webdriver.remote.webelement.WebElem...   \n",
       "4  [<selenium.webdriver.remote.webelement.WebElem...   \n",
       "5  [<selenium.webdriver.remote.webelement.WebElem...   \n",
       "6  [<selenium.webdriver.remote.webelement.WebElem...   \n",
       "7  [<selenium.webdriver.remote.webelement.WebElem...   \n",
       "8  [<selenium.webdriver.remote.webelement.WebElem...   \n",
       "9  [<selenium.webdriver.remote.webelement.WebElem...   \n",
       "\n",
       "                                                Cars  \\\n",
       "0  [<selenium.webdriver.remote.webelement.WebElem...   \n",
       "1  [<selenium.webdriver.remote.webelement.WebElem...   \n",
       "2  [<selenium.webdriver.remote.webelement.WebElem...   \n",
       "3  [<selenium.webdriver.remote.webelement.WebElem...   \n",
       "4  [<selenium.webdriver.remote.webelement.WebElem...   \n",
       "5  [<selenium.webdriver.remote.webelement.WebElem...   \n",
       "6  [<selenium.webdriver.remote.webelement.WebElem...   \n",
       "7  [<selenium.webdriver.remote.webelement.WebElem...   \n",
       "8  [<selenium.webdriver.remote.webelement.WebElem...   \n",
       "9  [<selenium.webdriver.remote.webelement.WebElem...   \n",
       "\n",
       "                                                  ML  \\\n",
       "0  [<selenium.webdriver.remote.webelement.WebElem...   \n",
       "1  [<selenium.webdriver.remote.webelement.WebElem...   \n",
       "2  [<selenium.webdriver.remote.webelement.WebElem...   \n",
       "3  [<selenium.webdriver.remote.webelement.WebElem...   \n",
       "4  [<selenium.webdriver.remote.webelement.WebElem...   \n",
       "5  [<selenium.webdriver.remote.webelement.WebElem...   \n",
       "6  [<selenium.webdriver.remote.webelement.WebElem...   \n",
       "7  [<selenium.webdriver.remote.webelement.WebElem...   \n",
       "8  [<selenium.webdriver.remote.webelement.WebElem...   \n",
       "9  [<selenium.webdriver.remote.webelement.WebElem...   \n",
       "\n",
       "                                              Guitar  \n",
       "0  [<selenium.webdriver.remote.webelement.WebElem...  \n",
       "1  [<selenium.webdriver.remote.webelement.WebElem...  \n",
       "2  [<selenium.webdriver.remote.webelement.WebElem...  \n",
       "3  [<selenium.webdriver.remote.webelement.WebElem...  \n",
       "4  [<selenium.webdriver.remote.webelement.WebElem...  \n",
       "5  [<selenium.webdriver.remote.webelement.WebElem...  \n",
       "6  [<selenium.webdriver.remote.webelement.WebElem...  \n",
       "7  [<selenium.webdriver.remote.webelement.WebElem...  \n",
       "8  [<selenium.webdriver.remote.webelement.WebElem...  \n",
       "9  [<selenium.webdriver.remote.webelement.WebElem...  "
      ]
     },
     "execution_count": 233,
     "metadata": {},
     "output_type": "execute_result"
    }
   ],
   "source": [
    "#3\n",
    "df=pd.DataFrame({'Fruit':Image_fruits,'Cars':Image_cars,'ML':Image_ML,'Guitar':Image_guitar})\n",
    "df"
   ]
  },
  {
   "cell_type": "code",
   "execution_count": 234,
   "id": "0d48c9b5",
   "metadata": {},
   "outputs": [],
   "source": [
    "driver=webdriver.Chrome()"
   ]
  },
  {
   "cell_type": "code",
   "execution_count": 235,
   "id": "35f34301",
   "metadata": {},
   "outputs": [],
   "source": [
    "driver.get(\"https://www.flipkart.com/\")"
   ]
  },
  {
   "cell_type": "code",
   "execution_count": 236,
   "id": "0be55555",
   "metadata": {},
   "outputs": [],
   "source": [
    "search=driver.find_element(By.XPATH,'/html/body/div[1]/div/div[1]/div/div/div/div/div[1]/div/div[1]/div/div[1]/div[1]/header/div[1]/div[2]/form/div/div/input')\n",
    "search.send_keys('Oneplus Nord')"
   ]
  },
  {
   "cell_type": "code",
   "execution_count": 237,
   "id": "127b3c35",
   "metadata": {},
   "outputs": [],
   "source": [
    "sear_button=driver.find_element(By.XPATH,'/html/body/div[1]/div/div[1]/div/div/div/div/div[1]/div/div[1]/div/div[1]/div[1]/header/div[1]/div[2]/form/div/button')\n",
    "sear_button.click()"
   ]
  },
  {
   "cell_type": "code",
   "execution_count": 241,
   "id": "ad406aa8",
   "metadata": {},
   "outputs": [
    {
     "name": "stdout",
     "output_type": "stream",
     "text": [
      "['OnePlus Nord CE 3 Lite 5G (Pastel Lime, 256 GB)', 'OnePlus Nord CE 3 Lite 5G (Chromatic Gray, 256 GB)', 'OnePlus Nord CE 3 Lite 5G (Pastel Lime, 128 GB)', 'OnePlus Nord CE 3 Lite 5G (Chromatic Gray, 128 GB)', 'OnePlus Nord CE 3 Lite 5G (Chromatic Gray, 128 GB)', 'OnePlus Nord CE 3 Lite 5G (Chromatic Gray, 256 GB)', 'OnePlus Nord CE 3 Lite 5G (Pastel lime, 256 GB)', 'OnePlus Nord CE 2 Lite 5G (Blue Tide, 128 GB)', 'OnePlus Nord CE 2 Lite 5G (Black Dusk, 128 GB)', 'OnePlus Nord CE3 5G (Aqua Surge, 128 GB)', 'OnePlus Nord CE 3 Lite 5G (Pastel Lime, 128 GB)', 'OnePlus Nord CE3 5G (Grey Shimmer, 128 GB)', 'OnePlus Nord 3 5G (Misty Green, 128 GB)', 'OnePlus Nord 3 5G (Tempest Gray, 128 GB)', 'OnePlus Nord 3 5G (Misty Green, 256 GB)', 'OnePlus Nord CE 3 Lite 5G (Chromatic Gray, 256 GB)', 'OnePlus Nord CE 3 Lite 5G (Pastel Lime, 256 GB)', 'OnePlus Nord CE 2 5G (Bahama Blue, 128 GB)', 'OnePlus Nord CE 2 5G (Bahama Blue, 128 GB)', 'OnePlus Nord CE 2 5G (Bahama Blue, 128 GB)', 'OnePlus Nord CE 3 Lite 5G (Chromatic Gray, 128 GB)', 'OnePlus Nord CE 5G (Blue Void, 128 GB)', 'OnePlus Nord CE3 5G (Aqua Surge, 256 GB)', 'OnePlus Nord CE3 5G (Grey Shimmer, 256 GB)']\n"
     ]
    }
   ],
   "source": [
    "Prod_name=[]\n",
    "prod_name=driver.find_elements(By.XPATH,'//div[@class=\"_4rR01T\"]')\n",
    "for i in prod_name:\n",
    "    Prod_name.append(i.text)\n",
    "print(Prod_name)"
   ]
  },
  {
   "cell_type": "code",
   "execution_count": 246,
   "id": "fd9c437d",
   "metadata": {},
   "outputs": [
    {
     "name": "stdout",
     "output_type": "stream",
     "text": [
      "['₹19,977', '₹19,958', '₹18,539', '₹18,517', '₹19,087', '₹20,238', '₹20,187', '₹18,160', '₹17,650', '₹24,598', '₹18,555', '₹24,619', '₹29,499', '₹29,300', '₹37,899', '₹21,335', '₹20,990', '₹21,780', '₹21,395', '₹22,495', '₹19,441', '₹27,999', '₹26,999', '₹24,599']\n"
     ]
    }
   ],
   "source": [
    "Price=[]\n",
    "price=driver.find_elements(By.XPATH,'//div[@class=\"_30jeq3 _1_WHN1\"]')\n",
    "for i in price:\n",
    "    Price.append(i.text)\n",
    "print(Price)"
   ]
  },
  {
   "cell_type": "code",
   "execution_count": 247,
   "id": "5d425cb0",
   "metadata": {},
   "outputs": [],
   "source": [
    "Prod_Details=[]\n",
    "details=driver.find_elements(By.XPATH,'//ul[@class=\"_1xgFaf\"]')\n",
    "for i in details:\n",
    "    Prod_Details.append(i.text)\n",
    "#print(Prod_Details)"
   ]
  },
  {
   "cell_type": "code",
   "execution_count": 248,
   "id": "afeabbb0",
   "metadata": {},
   "outputs": [],
   "source": [
    "url=[]\n",
    "Url=driver.find_elements(By.XPATH,'//a[@class=\"_1fQZEK\"]')\n",
    "for i in Url:\n",
    "    url.append(i.get_attribute('href'))\n",
    "#print(url)"
   ]
  },
  {
   "cell_type": "code",
   "execution_count": 251,
   "id": "4a604d1c",
   "metadata": {},
   "outputs": [
    {
     "data": {
      "text/html": [
       "<div>\n",
       "<style scoped>\n",
       "    .dataframe tbody tr th:only-of-type {\n",
       "        vertical-align: middle;\n",
       "    }\n",
       "\n",
       "    .dataframe tbody tr th {\n",
       "        vertical-align: top;\n",
       "    }\n",
       "\n",
       "    .dataframe thead th {\n",
       "        text-align: right;\n",
       "    }\n",
       "</style>\n",
       "<table border=\"1\" class=\"dataframe\">\n",
       "  <thead>\n",
       "    <tr style=\"text-align: right;\">\n",
       "      <th></th>\n",
       "      <th>Product Name</th>\n",
       "      <th>Price</th>\n",
       "      <th>Product Details</th>\n",
       "      <th>URL</th>\n",
       "    </tr>\n",
       "  </thead>\n",
       "  <tbody>\n",
       "    <tr>\n",
       "      <th>0</th>\n",
       "      <td>OnePlus Nord CE 3 Lite 5G (Pastel Lime, 256 GB)</td>\n",
       "      <td>₹19,977</td>\n",
       "      <td>8 GB RAM | 256 GB ROM\\n17.07 cm (6.72 inch) Di...</td>\n",
       "      <td>https://www.flipkart.com/oneplus-nord-ce-3-lit...</td>\n",
       "    </tr>\n",
       "    <tr>\n",
       "      <th>1</th>\n",
       "      <td>OnePlus Nord CE 3 Lite 5G (Chromatic Gray, 256...</td>\n",
       "      <td>₹19,958</td>\n",
       "      <td>8 GB RAM | 256 GB ROM\\n17.07 cm (6.72 inch) Di...</td>\n",
       "      <td>https://www.flipkart.com/oneplus-nord-ce-3-lit...</td>\n",
       "    </tr>\n",
       "    <tr>\n",
       "      <th>2</th>\n",
       "      <td>OnePlus Nord CE 3 Lite 5G (Pastel Lime, 128 GB)</td>\n",
       "      <td>₹18,539</td>\n",
       "      <td>8 GB RAM | 128 GB ROM\\n17.07 cm (6.72 inch) Di...</td>\n",
       "      <td>https://www.flipkart.com/oneplus-nord-ce-3-lit...</td>\n",
       "    </tr>\n",
       "    <tr>\n",
       "      <th>3</th>\n",
       "      <td>OnePlus Nord CE 3 Lite 5G (Chromatic Gray, 128...</td>\n",
       "      <td>₹18,517</td>\n",
       "      <td>8 GB RAM | 128 GB ROM\\n17.07 cm (6.72 inch) Di...</td>\n",
       "      <td>https://www.flipkart.com/oneplus-nord-ce-3-lit...</td>\n",
       "    </tr>\n",
       "    <tr>\n",
       "      <th>4</th>\n",
       "      <td>OnePlus Nord CE 3 Lite 5G (Chromatic Gray, 128...</td>\n",
       "      <td>₹19,087</td>\n",
       "      <td>8 GB RAM | 128 GB ROM\\n17.07 cm (6.72 inch) Di...</td>\n",
       "      <td>https://www.flipkart.com/oneplus-nord-ce-3-lit...</td>\n",
       "    </tr>\n",
       "  </tbody>\n",
       "</table>\n",
       "</div>"
      ],
      "text/plain": [
       "                                        Product Name    Price  \\\n",
       "0    OnePlus Nord CE 3 Lite 5G (Pastel Lime, 256 GB)  ₹19,977   \n",
       "1  OnePlus Nord CE 3 Lite 5G (Chromatic Gray, 256...  ₹19,958   \n",
       "2    OnePlus Nord CE 3 Lite 5G (Pastel Lime, 128 GB)  ₹18,539   \n",
       "3  OnePlus Nord CE 3 Lite 5G (Chromatic Gray, 128...  ₹18,517   \n",
       "4  OnePlus Nord CE 3 Lite 5G (Chromatic Gray, 128...  ₹19,087   \n",
       "\n",
       "                                     Product Details  \\\n",
       "0  8 GB RAM | 256 GB ROM\\n17.07 cm (6.72 inch) Di...   \n",
       "1  8 GB RAM | 256 GB ROM\\n17.07 cm (6.72 inch) Di...   \n",
       "2  8 GB RAM | 128 GB ROM\\n17.07 cm (6.72 inch) Di...   \n",
       "3  8 GB RAM | 128 GB ROM\\n17.07 cm (6.72 inch) Di...   \n",
       "4  8 GB RAM | 128 GB ROM\\n17.07 cm (6.72 inch) Di...   \n",
       "\n",
       "                                                 URL  \n",
       "0  https://www.flipkart.com/oneplus-nord-ce-3-lit...  \n",
       "1  https://www.flipkart.com/oneplus-nord-ce-3-lit...  \n",
       "2  https://www.flipkart.com/oneplus-nord-ce-3-lit...  \n",
       "3  https://www.flipkart.com/oneplus-nord-ce-3-lit...  \n",
       "4  https://www.flipkart.com/oneplus-nord-ce-3-lit...  "
      ]
     },
     "execution_count": 251,
     "metadata": {},
     "output_type": "execute_result"
    }
   ],
   "source": [
    "#4\n",
    "df=pd.DataFrame({'Product Name':Prod_name,'Price':Price,'Product Details':Prod_Details,'URL':url})\n",
    "df.head()"
   ]
  },
  {
   "cell_type": "code",
   "execution_count": 275,
   "id": "e0c277e0",
   "metadata": {},
   "outputs": [],
   "source": [
    "#6\n",
    "driver=webdriver.Chrome()"
   ]
  },
  {
   "cell_type": "code",
   "execution_count": 276,
   "id": "cf7227ce",
   "metadata": {},
   "outputs": [],
   "source": [
    "driver.get('https://www.digit.in/')"
   ]
  },
  {
   "cell_type": "code",
   "execution_count": 278,
   "id": "e53f76bf",
   "metadata": {},
   "outputs": [],
   "source": [
    "sear_button=driver.find_element(By.XPATH,'/html/body/div[1]/header/div/div[2]/div/div/div/div/button/i')\n",
    "sear_button.click()"
   ]
  },
  {
   "cell_type": "code",
   "execution_count": 280,
   "id": "1056267a",
   "metadata": {},
   "outputs": [],
   "source": [
    "search=driver.find_element(By.XPATH,'/html/body/div[6]/div/form/input[1]')\n",
    "search.send_keys('gaming laptop')"
   ]
  },
  {
   "cell_type": "code",
   "execution_count": 285,
   "id": "964f19e2",
   "metadata": {},
   "outputs": [],
   "source": [
    "Clickzz=driver.find_element(By.XPATH,'/html/body/div[6]/div/form/button/i')\n",
    "Clickzz.click()"
   ]
  },
  {
   "cell_type": "code",
   "execution_count": 287,
   "id": "94a52a5c",
   "metadata": {},
   "outputs": [
    {
     "name": "stdout",
     "output_type": "stream",
     "text": [
      "['HP OMEN Gaming Laptop 16 XD0007ax', 'Dell G15 5520 Gaming Laptop', 'Acer Predator Helios Neo 16 Gaming Laptop', 'HP OMEN Gaming Laptop (xf0060AX)', 'Dell Alienware m16 R1 Gaming Laptop', 'Dell Alienware x14 R2 Gaming Laptop', 'Hp Victus Gaming Laptop 16-r0075TX', 'Alienware x14 Gaming Laptop', 'ASUS TUF Gaming Laptop FX506LI-HN270T', 'Lenovo IdeaPad Gaming 3 11th Gen Core i5-11320H (82K101L7IN)', 'Lenovo IdeaPad Gaming 3 15IAH7', 'ASUS TUF Gaming F15']\n",
      "12\n"
     ]
    }
   ],
   "source": [
    "Prod_name=[]\n",
    "Product=driver.find_elements(By.XPATH,'//h3[@class=\" text-clamp text-clamp-2\"]')\n",
    "for i in Product:\n",
    "    Prod_name.append(i.text)\n",
    "print(Prod_name)\n",
    "print(len(Prod_name))"
   ]
  },
  {
   "cell_type": "code",
   "execution_count": 283,
   "id": "17b713aa",
   "metadata": {},
   "outputs": [
    {
     "name": "stdout",
     "output_type": "stream",
     "text": [
      "['https://www.digit.in/laptops/hp-omen-gaming-laptop-16-xd0007ax.html', 'https://www.digit.in/laptops/dell-g15-5520-gaming-laptop.html', 'https://www.digit.in/laptops/acer-predator-helios-neo-16-gaming-laptop.html', 'https://www.digit.in/laptops/hp-omen-gaming-laptop-xf0060ax.html', 'https://www.digit.in/laptops/dell-alienware-m16-r1-gaming-laptop-price-350853.html', 'https://www.digit.in/laptops/dell-alienware-x14-r2-gaming-laptop-price-350232.html', 'https://www.digit.in/laptops/hp-victus-gaming-laptop-16-r0075tx-price-349620.html', 'https://www.digit.in/laptops/alienware-x14-gaming-laptop-price-318804.html', 'https://www.digit.in/laptops/asus-tuf-gaming-laptop-fx506li-hn270t-price-256693.html', 'https://www.digit.in/laptops/lenovo-ideapad-gaming-3-11th-gen-core-i5-11320h-82k101l7in-price-350430.html', 'https://www.digit.in/laptops/lenovo-ideapad-gaming-3-15iah7-price-341574.html', 'https://www.digit.in/laptops/asus-tuf-gaming-f15-fx507ze-hn038w-12th-gen-core-i7-12700h-2022-price-324167.html']\n",
      "12\n"
     ]
    }
   ],
   "source": [
    "Title=[]\n",
    "title=driver.find_elements(By.XPATH,'//h3[@class=\" text-clamp text-clamp-2\"]/a')\n",
    "for i in title:\n",
    "    Title.append(i.get_attribute('href'))\n",
    "print(Title)\n",
    "print(len(Title))"
   ]
  },
  {
   "cell_type": "code",
   "execution_count": 316,
   "id": "e9fe51c4",
   "metadata": {},
   "outputs": [],
   "source": [
    "# box=[]\n",
    "# Box=driver.find_elements(By.XPATH,'//div[@class=\"product col_item woo_grid_compact two_column_mobile type-product \"]')\n",
    "# for i in Box:\n",
    "#     box.append(i.text)\n",
    "# print(box)\n",
    "# print(len(box))"
   ]
  },
  {
   "cell_type": "code",
   "execution_count": 301,
   "id": "1b99123e",
   "metadata": {},
   "outputs": [],
   "source": [
    "des=[]\n",
    "for i in Title:\n",
    "    driver.get(i)\n",
    "    time.sleep(5)\n",
    "    try:\n",
    "        description=driver.find_element(By.XPATH,'/html/body/div[2]/div[3]/div[1]/div/div/div/div/div[2]/div[1]/div[4]/div[3]/div/div/ul/li[1]/div/p[2]/strong')\n",
    "        des.append(i)\n",
    "    except NoSuchElementException:\n",
    "        des.append('-')\n"
   ]
  },
  {
   "cell_type": "code",
   "execution_count": 302,
   "id": "4cb42769",
   "metadata": {},
   "outputs": [
    {
     "data": {
      "text/plain": [
       "['-',\n",
       " 'https://www.digit.in/laptops/dell-g15-5520-gaming-laptop.html',\n",
       " 'https://www.digit.in/laptops/acer-predator-helios-neo-16-gaming-laptop.html',\n",
       " '-',\n",
       " '-',\n",
       " 'https://www.digit.in/laptops/dell-alienware-x14-r2-gaming-laptop-price-350232.html',\n",
       " '-',\n",
       " '-',\n",
       " '-',\n",
       " '-',\n",
       " '-',\n",
       " '-']"
      ]
     },
     "execution_count": 302,
     "metadata": {},
     "output_type": "execute_result"
    }
   ],
   "source": [
    "des"
   ]
  },
  {
   "cell_type": "code",
   "execution_count": 311,
   "id": "168017cc",
   "metadata": {},
   "outputs": [
    {
     "name": "stdout",
     "output_type": "stream",
     "text": [
      "['Rs. 101,990', 'Rs. 72,990', 'Rs. 109,990', 'Rs. 117,490', 'Rs. 224,290']\n"
     ]
    }
   ],
   "source": [
    "price=[]\n",
    "p=driver.find_elements(By.XPATH,'//div[@class=\"cegg-price cegg-price-color cegg-price-instock\"]')\n",
    "for i in p:\n",
    "    price.append(i.text)\n",
    "print(price)"
   ]
  },
  {
   "cell_type": "code",
   "execution_count": 315,
   "id": "16150b39",
   "metadata": {},
   "outputs": [
    {
     "name": "stdout",
     "output_type": "stream",
     "text": [
      "['Rs. 101,990', 'Rs. 72,990', 'Rs. 109,990', 'Rs. 117,490', 'Rs. 224,290']\n"
     ]
    }
   ],
   "source": [
    "price = []\n",
    "p = driver.find_elements(By.XPATH, '//div[@class=\"cegg-price cegg-price-color cegg-price-instock\"]')\n",
    "for i in p:\n",
    "    price.append(i.text)\n",
    "\n",
    "if price:\n",
    "    print(price)\n",
    "else:\n",
    "    print('-')\n"
   ]
  },
  {
   "cell_type": "code",
   "execution_count": 317,
   "id": "ad29d0a8",
   "metadata": {},
   "outputs": [],
   "source": [
    "#7\n",
    "driver=webdriver.Chrome()"
   ]
  },
  {
   "cell_type": "code",
   "execution_count": 318,
   "id": "bbb9d41b",
   "metadata": {},
   "outputs": [],
   "source": [
    "driver.get('https://www.forbes.com/?sh=4894ca9d2254')"
   ]
  },
  {
   "cell_type": "code",
   "execution_count": 320,
   "id": "f7c81b3f",
   "metadata": {},
   "outputs": [],
   "source": [
    "icon=driver.find_element(By.XPATH,'/html/body/div[1]/header/nav/div[1]/div[1]/div/div')\n",
    "icon.click()"
   ]
  },
  {
   "cell_type": "code",
   "execution_count": 321,
   "id": "59bb291e",
   "metadata": {},
   "outputs": [],
   "source": [
    "bill=driver.find_element(By.XPATH,'/html/body/div[1]/header/nav/div[1]/div[1]/div/div[2]/ul/li[2]/div[1]')\n",
    "bill.click()"
   ]
  },
  {
   "cell_type": "code",
   "execution_count": 322,
   "id": "c3b265f2",
   "metadata": {},
   "outputs": [],
   "source": [
    "w_bill=driver.find_element(By.XPATH,'/html/body/div[1]/header/nav/div[1]/div[1]/div/div[2]/ul/li[2]/div[2]/div[3]/ul/li[1]/a')\n",
    "w_bill.click()"
   ]
  },
  {
   "cell_type": "code",
   "execution_count": 326,
   "id": "ab095c8e",
   "metadata": {},
   "outputs": [
    {
     "name": "stdout",
     "output_type": "stream",
     "text": [
      "200\n"
     ]
    }
   ],
   "source": [
    "Rows=[]\n",
    "row=driver.find_elements(By.XPATH,'//div[@class=\"TableRow_row__L-0Km\"]')\n",
    "for i in row:\n",
    "    Rows.append(i.text)\n",
    "print(len(Rows))"
   ]
  },
  {
   "cell_type": "code",
   "execution_count": 327,
   "id": "1383da2b",
   "metadata": {},
   "outputs": [
    {
     "data": {
      "text/plain": [
       "['1\\nBernard Arnault & family\\n$211 B\\n74\\nFrance\\nLVMH\\nFashion & Retail',\n",
       " '2\\nElon Musk\\n$180 B\\n51\\nUnited States\\nTesla, SpaceX\\nAutomotive',\n",
       " '3\\nJeff Bezos\\n$114 B\\n59\\nUnited States\\nAmazon\\nTechnology',\n",
       " '4\\nLarry Ellison\\n$107 B\\n78\\nUnited States\\nOracle\\nTechnology',\n",
       " '5\\nWarren Buffett\\n$106 B\\n92\\nUnited States\\nBerkshire Hathaway\\nFinance & Investments',\n",
       " '6\\nBill Gates\\n$104 B\\n67\\nUnited States\\nMicrosoft\\nTechnology',\n",
       " '7\\nMichael Bloomberg\\n$94.5 B\\n81\\nUnited States\\nBloomberg LP\\nMedia & Entertainment',\n",
       " '8\\nCarlos Slim Helu & family\\n$93 B\\n83\\nMexico\\nTelecom\\nTelecom',\n",
       " '9\\nMukesh Ambani\\n$83.4 B\\n65\\nIndia\\nDiversified\\nDiversified',\n",
       " '10\\nSteve Ballmer\\n$80.7 B\\n67\\nUnited States\\nMicrosoft\\nTechnology']"
      ]
     },
     "execution_count": 327,
     "metadata": {},
     "output_type": "execute_result"
    }
   ],
   "source": [
    "Rows[0:10]"
   ]
  },
  {
   "cell_type": "code",
   "execution_count": 328,
   "id": "e201a4ca",
   "metadata": {},
   "outputs": [
    {
     "name": "stdout",
     "output_type": "stream",
     "text": [
      "[['1', 'Bernard Arnault & family', '$211 B', '74', 'France', 'LVMH', 'Fashion & Retail'], ['2', 'Elon Musk', '$180 B', '51', 'United States', 'Tesla, SpaceX', 'Automotive'], ['3', 'Jeff Bezos', '$114 B', '59', 'United States', 'Amazon', 'Technology'], ['4', 'Larry Ellison', '$107 B', '78', 'United States', 'Oracle', 'Technology'], ['5', 'Warren Buffett', '$106 B', '92', 'United States', 'Berkshire Hathaway', 'Finance & Investments'], ['6', 'Bill Gates', '$104 B', '67', 'United States', 'Microsoft', 'Technology'], ['7', 'Michael Bloomberg', '$94.5 B', '81', 'United States', 'Bloomberg LP', 'Media & Entertainment'], ['8', 'Carlos Slim Helu & family', '$93 B', '83', 'Mexico', 'Telecom', 'Telecom'], ['9', 'Mukesh Ambani', '$83.4 B', '65', 'India', 'Diversified', 'Diversified'], ['10', 'Steve Ballmer', '$80.7 B', '67', 'United States', 'Microsoft', 'Technology']]\n"
     ]
    }
   ],
   "source": [
    "string=[]\n",
    "for i in Rows:\n",
    "    string.append(i.split('\\n'))\n",
    "print(string[0:10])"
   ]
  },
  {
   "cell_type": "code",
   "execution_count": 337,
   "id": "587e7746",
   "metadata": {},
   "outputs": [
    {
     "name": "stdout",
     "output_type": "stream",
     "text": [
      "  Rank                      Name Networth Age        Country  \\\n",
      "0    1  Bernard Arnault & family   $211 B  74         France   \n",
      "1    2                 Elon Musk   $180 B  51  United States   \n",
      "2    3                Jeff Bezos   $114 B  59  United States   \n",
      "3    4             Larry Ellison   $107 B  78  United States   \n",
      "4    5            Warren Buffett   $106 B  92  United States   \n",
      "\n",
      "               Source               Industry  \n",
      "0                LVMH       Fashion & Retail  \n",
      "1       Tesla, SpaceX             Automotive  \n",
      "2              Amazon             Technology  \n",
      "3              Oracle             Technology  \n",
      "4  Berkshire Hathaway  Finance & Investments  \n"
     ]
    }
   ],
   "source": [
    "data=[]\n",
    "for string in Rows:\n",
    "    rank, name, net, age, cont, src,ind = string.split('\\n')\n",
    "    data.append([rank, name, net, age, cont, src, ind])\n",
    "df = pd.DataFrame(data, columns=['Rank', 'Name', 'Networth', 'Age', 'Country', 'Source', 'Industry'])\n",
    "print(df.head())"
   ]
  },
  {
   "cell_type": "code",
   "execution_count": 340,
   "id": "6a18bee3",
   "metadata": {},
   "outputs": [],
   "source": [
    "#8\n",
    "driver=webdriver.Chrome()"
   ]
  },
  {
   "cell_type": "code",
   "execution_count": 341,
   "id": "3eea0d50",
   "metadata": {},
   "outputs": [],
   "source": [
    "driver.get('https://www.youtube.com/')"
   ]
  },
  {
   "cell_type": "code",
   "execution_count": 343,
   "id": "0b8ab55b",
   "metadata": {},
   "outputs": [],
   "source": [
    "search=driver.find_element(By.XPATH,'/html/body/ytd-app/div[1]/div/ytd-masthead/div[4]/div[2]/ytd-searchbox/form/div[1]/div[1]/input')\n",
    "search.send_keys('halamathi habibo video song')"
   ]
  },
  {
   "cell_type": "code",
   "execution_count": 344,
   "id": "8ff90ded",
   "metadata": {},
   "outputs": [],
   "source": [
    "button=driver.find_element(By.XPATH,'/html/body/ytd-app/div[1]/div/ytd-masthead/div[4]/div[2]/ytd-searchbox/button')\n",
    "button.click()"
   ]
  },
  {
   "cell_type": "code",
   "execution_count": 347,
   "id": "e84e9b72",
   "metadata": {},
   "outputs": [],
   "source": [
    "video=driver.find_element(By.XPATH,'/html/body/ytd-app/div[1]/ytd-page-manager/ytd-search/div[1]/ytd-two-column-search-results-renderer/div/ytd-section-list-renderer/div[2]/ytd-item-section-renderer/div[3]/ytd-video-renderer[1]/div[1]/div/div[1]/div/h3/a')\n",
    "video.click()"
   ]
  },
  {
   "cell_type": "code",
   "execution_count": 352,
   "id": "e6da4ea4",
   "metadata": {},
   "outputs": [],
   "source": [
    "comment=[]\n",
    "com=driver.find_elements(By.XPATH,'//span[@class=\"style-scope yt-formatted-string\"]')\n",
    "for i in com:\n",
    "    comment.append(i.text)\n",
    "#print(comment[0:500])"
   ]
  },
  {
   "cell_type": "code",
   "execution_count": 354,
   "id": "73e712f1",
   "metadata": {},
   "outputs": [
    {
     "data": {
      "text/html": [
       "<div>\n",
       "<style scoped>\n",
       "    .dataframe tbody tr th:only-of-type {\n",
       "        vertical-align: middle;\n",
       "    }\n",
       "\n",
       "    .dataframe tbody tr th {\n",
       "        vertical-align: top;\n",
       "    }\n",
       "\n",
       "    .dataframe thead th {\n",
       "        text-align: right;\n",
       "    }\n",
       "</style>\n",
       "<table border=\"1\" class=\"dataframe\">\n",
       "  <thead>\n",
       "    <tr style=\"text-align: right;\">\n",
       "      <th></th>\n",
       "      <th>Comment</th>\n",
       "    </tr>\n",
       "  </thead>\n",
       "  <tbody>\n",
       "    <tr>\n",
       "      <th>0</th>\n",
       "      <td></td>\n",
       "    </tr>\n",
       "    <tr>\n",
       "      <th>1</th>\n",
       "      <td></td>\n",
       "    </tr>\n",
       "    <tr>\n",
       "      <th>2</th>\n",
       "      <td>382,323</td>\n",
       "    </tr>\n",
       "    <tr>\n",
       "      <th>3</th>\n",
       "      <td>Comments</td>\n",
       "    </tr>\n",
       "    <tr>\n",
       "      <th>4</th>\n",
       "      <td>Pinned by</td>\n",
       "    </tr>\n",
       "    <tr>\n",
       "      <th>5</th>\n",
       "      <td>Sun TV</td>\n",
       "    </tr>\n",
       "    <tr>\n",
       "      <th>6</th>\n",
       "      <td>Watch the Arabic Kuthu Lo-Fi Version video -</td>\n",
       "    </tr>\n",
       "    <tr>\n",
       "      <th>7</th>\n",
       "      <td>It's been 9 months already but the vibes and c...</td>\n",
       "    </tr>\n",
       "    <tr>\n",
       "      <th>8</th>\n",
       "      <td></td>\n",
       "    </tr>\n",
       "    <tr>\n",
       "      <th>9</th>\n",
       "      <td>500M views and 7M likes loading....</td>\n",
       "    </tr>\n",
       "  </tbody>\n",
       "</table>\n",
       "</div>"
      ],
      "text/plain": [
       "                                             Comment\n",
       "0                                                   \n",
       "1                                                   \n",
       "2                                            382,323\n",
       "3                                           Comments\n",
       "4                                          Pinned by\n",
       "5                                             Sun TV\n",
       "6      Watch the Arabic Kuthu Lo-Fi Version video - \n",
       "7  It's been 9 months already but the vibes and c...\n",
       "8                                                   \n",
       "9               500M views and 7M likes loading.... "
      ]
     },
     "execution_count": 354,
     "metadata": {},
     "output_type": "execute_result"
    }
   ],
   "source": [
    "df=pd.DataFrame(comment,columns=['Comment'])\n",
    "df.head(10)"
   ]
  },
  {
   "cell_type": "code",
   "execution_count": 3,
   "id": "d6852c55",
   "metadata": {},
   "outputs": [],
   "source": [
    "#9\n",
    "driver=webdriver.Chrome()"
   ]
  },
  {
   "cell_type": "code",
   "execution_count": 4,
   "id": "727e9fb4",
   "metadata": {},
   "outputs": [],
   "source": [
    "driver.get('https://www.hostelworld.com/')"
   ]
  },
  {
   "cell_type": "code",
   "execution_count": 6,
   "id": "4b3b9613",
   "metadata": {},
   "outputs": [],
   "source": [
    "search=driver.find_element(By.XPATH,'/html/body/div[3]/div/div/div[2]/div[2]/div[2]/div/div[2]/div/div/div[2]/div/div[1]/div/div[1]/div/div/div[2]/input')\n",
    "search.send_keys('LONDON')"
   ]
  },
  {
   "cell_type": "code",
   "execution_count": 7,
   "id": "ee040df2",
   "metadata": {},
   "outputs": [],
   "source": [
    "button=driver.find_element(By.XPATH,'/html/body/div[3]/div/div/div[2]/div[2]/div[2]/div/div[2]/div/div/div[2]/div/div[1]/div/div[2]/div/ul/li[2]/button')\n",
    "button.click()"
   ]
  },
  {
   "cell_type": "code",
   "execution_count": 8,
   "id": "182727d6",
   "metadata": {},
   "outputs": [],
   "source": [
    "Next=driver.find_element(By.XPATH,'/html/body/div[3]/div/div/div[2]/div[2]/div[2]/div/div[2]/div/div/div[3]/div/div/button[2]')\n",
    "Next.click()"
   ]
  },
  {
   "cell_type": "code",
   "execution_count": 9,
   "id": "55a0e1df",
   "metadata": {},
   "outputs": [],
   "source": [
    "go=driver.find_element(By.XPATH,'/html/body/div[3]/div/div/div[2]/div[2]/div[2]/div/div[2]/div/div/div[3]/div/div/button')\n",
    "go.click()"
   ]
  },
  {
   "cell_type": "code",
   "execution_count": 11,
   "id": "86d93b37",
   "metadata": {},
   "outputs": [
    {
     "name": "stdout",
     "output_type": "stream",
     "text": [
      "[\"Wombat's City Hostel London\", 'Palmers Lodge - Swiss Cottage', \"St Christopher's Village\", 'NX London Hostel', 'Urbany Hostel London', 'Onefam Notting Hill', 'Generator London', 'Onefam Waterloo', 'Astor Hyde Park', 'Safestay London Elephant & Castle', 'Astor Museum Inn', 'No.8 Seven Sisters', 'Clink261', 'No.8 Willesden Hostel London', 'Smart Russell Square Hostel', 'Safestay London Kensington Holland Park', 'The Walrus Hostel', 'Smart Hyde Park Inn Hostel', 'YHA London Oxford Street', 'Queen Elizabeth Chelsea', 'Destinations Hostels @ The Gallery', 'Prime Backpackers Angel', 'Hostelle - women only hostel London', 'London Backpackers', 'Smart Camden Inn Hostel', 'Kabannas London St Pancras', 'Astor Kensington', \"St Christopher's Inn - London Bridge\", 'Astor Victoria', \"St Christopher's Hammersmith\"]\n",
      "30\n"
     ]
    }
   ],
   "source": [
    "Name=[]\n",
    "name=driver.find_elements(By.XPATH,'//div[@class=\"property-name\"]/span')\n",
    "for i in name:\n",
    "    Name.append(i.text)\n",
    "print(Name)\n",
    "print(len(Name))"
   ]
  },
  {
   "cell_type": "code",
   "execution_count": 369,
   "id": "2e6376f2",
   "metadata": {},
   "outputs": [
    {
     "name": "stdout",
     "output_type": "stream",
     "text": [
      "['9.1', '8.8', '7.8', '9.1', '8.8', '7.8', '8.9', '9.5', '9.6', '7.5', '9.6', '8.2', '7.3', '8.4', '7.7', '8.0', '7.1', '7.6', '6.9', '7.9', '7.8', '9.0', '7.5', '9.1', '8.7', '8.8', '8.1', '8.4', '8.2', '8.5', '8.0', '7.2', '7.5']\n",
      "33\n"
     ]
    }
   ],
   "source": [
    "ratings=[]\n",
    "rat=driver.find_elements(By.XPATH,'//span[@class=\"number\"]')\n",
    "for i in rat:\n",
    "    ratings.append(i.text)\n",
    "print(ratings)\n",
    "print(len(ratings))"
   ]
  },
  {
   "cell_type": "code",
   "execution_count": 371,
   "id": "c0eb8ed4",
   "metadata": {},
   "outputs": [
    {
     "name": "stdout",
     "output_type": "stream",
     "text": [
      "['Superb', 'Fabulous', 'Very Good', 'Superb', 'Fabulous', 'Very Good', 'Fabulous', 'Superb', 'Superb', 'Very Good', 'Superb', 'Fabulous', 'Very Good', 'Fabulous', 'Very Good', 'Fabulous', 'Very Good', 'Very Good', 'Good', 'Very Good', 'Very Good', 'Superb', 'Very Good', 'Superb', 'Fabulous', 'Fabulous', 'Fabulous', 'Fabulous', 'Fabulous', 'Fabulous', 'Fabulous', 'Very Good', 'Very Good']\n",
      "33\n"
     ]
    }
   ],
   "source": [
    "review=[]\n",
    "rev=driver.find_elements(By.XPATH,'//span[@class=\"keyword\"]')\n",
    "for i in rev:\n",
    "    review.append(i.text)\n",
    "print(review)\n",
    "print(len(review))"
   ]
  },
  {
   "cell_type": "code",
   "execution_count": 372,
   "id": "21d35a86",
   "metadata": {},
   "outputs": [
    {
     "name": "stdout",
     "output_type": "stream",
     "text": [
      "['(15924)', '(15982)', '(12880)', '(2151)', '(1130)', '(2606)', '(8090)', '(151)', '(12332)', '(5284)', '(9458)', '(4180)', '(522)', '(5207)', '(10213)', '(1787)', '(4304)', '(6803)', '(4704)', '(3692)', '(320)', '(873)', '(122)', '(4568)', '(3145)', '(2978)', '(6596)', '(3605)', '(15100)', '(4391)']\n",
      "30\n"
     ]
    }
   ],
   "source": [
    "ovr_review=[]\n",
    "ovr_rev=driver.find_elements(By.XPATH,'//span[@class=\"left-margin\"]')\n",
    "for i in ovr_rev:\n",
    "    ovr_review.append(i.text)\n",
    "print(ovr_review)\n",
    "print(len(ovr_review))"
   ]
  },
  {
   "cell_type": "code",
   "execution_count": 373,
   "id": "d73c94b3",
   "metadata": {},
   "outputs": [
    {
     "name": "stdout",
     "output_type": "stream",
     "text": [
      "['- 3.6km from city centre', '- 6.5km from city centre', '- 1.8km from city centre', '- 6.1km from city centre', '- 5.4km from city centre', '- 5.5km from city centre', '- 3km from city centre', '- 0.7km from city centre', '- 4.3km from city centre', '- 1.7km from city centre', '- 2.2km from city centre', '- 9km from city centre', '- 3.2km from city centre', '- 10km from city centre', '- 2.6km from city centre', '- 5.8km from city centre', '- 0.2km from city centre', '- 5km from city centre', '- 2.1km from city centre', '- 5.7km from city centre', '- 1.7km from city centre', '- 3.6km from city centre', '- 5.1km from city centre', '- 11.9km from city centre', '- 4.4km from city centre', '- 3.3km from city centre', '- 4.9km from city centre', '- 1.8km from city centre', '- 1.8km from city centre', '- 7.5km from city centre']\n",
      "30\n"
     ]
    }
   ],
   "source": [
    "distance=[]\n",
    "dis=driver.find_elements(By.XPATH,'//span[@class=\"distance-description\"]')\n",
    "for i in dis:\n",
    "    distance.append(i.text)\n",
    "print(distance)\n",
    "print(len(distance))"
   ]
  },
  {
   "cell_type": "code",
   "execution_count": 13,
   "id": "5e0e5603",
   "metadata": {},
   "outputs": [
    {
     "name": "stdout",
     "output_type": "stream",
     "text": [
      "['', '', '', '', '', '', '', '', '', '', '', '', '', '', '', '', '', '', '', '', '', '', '', '', '', '', '', '', '', '', '', '']\n",
      "32\n"
     ]
    }
   ],
   "source": [
    "facility=[]\n",
    "fa=driver.find_elements(By.XPATH,'//div[@class=\"badge-wrapper theme-blue-light solo-icon\"]')\n",
    "for i in fa:\n",
    "    facility.append(i.text)\n",
    "print(facility)\n",
    "print(len(facility))"
   ]
  },
  {
   "cell_type": "code",
   "execution_count": 14,
   "id": "0cb13b4f",
   "metadata": {},
   "outputs": [
    {
     "name": "stdout",
     "output_type": "stream",
     "text": [
      "['₹10,603', '₹2,142', '₹2,086', '₹1,346', '₹4,360', '₹7,593', '₹2,253', '₹8,727', '₹2,396', '₹9,076', '₹2,662', '₹11,626', '₹1,998', '₹1,647', '₹13,143', '₹2,457', '₹1,918', '₹1,039', '₹1,644', '₹2,918', '₹987', '₹1,384', '₹4,844', '₹1,300', '₹1,919', '₹1,290', '₹6,264', '₹2,610', '₹4,669', '₹1,271', '₹3,127', '₹2,945', '₹2,088', '₹1,462', '₹1,839', '₹12,166', '₹2,255', '₹7,924', '₹1,707', '₹1,728', '₹8,613', '₹1,704', '₹1,179']\n",
      "43\n"
     ]
    }
   ],
   "source": [
    "price=[]\n",
    "dm=driver.find_elements(By.XPATH,'//strong[@class=\"current\"]')\n",
    "for i in dm:\n",
    "    price.append(i.text)\n",
    "print(price)\n",
    "print(len(price))"
   ]
  },
  {
   "cell_type": "code",
   "execution_count": 15,
   "id": "3ea7d981",
   "metadata": {},
   "outputs": [],
   "source": [
    "#5\n",
    "driver=webdriver.Chrome()"
   ]
  },
  {
   "cell_type": "code",
   "execution_count": 16,
   "id": "3f79fbe2",
   "metadata": {},
   "outputs": [],
   "source": [
    "driver.get('https://www.google.com/maps/@10.8211663,78.2897649,7z?entry=ttu')"
   ]
  },
  {
   "cell_type": "code",
   "execution_count": 18,
   "id": "bd0e0236",
   "metadata": {},
   "outputs": [],
   "source": [
    "search=driver.find_element(By.XPATH,'/html/body/div[1]/div[3]/div[8]/div[3]/div[1]/div[1]/div/div[2]/form/input')\n",
    "search.send_keys('LONDON')"
   ]
  },
  {
   "cell_type": "code",
   "execution_count": 19,
   "id": "89664d9c",
   "metadata": {},
   "outputs": [],
   "source": [
    "button=driver.find_element(By.XPATH,'/html/body/div[1]/div[3]/div[8]/div[3]/div[1]/div[1]/div/div[2]/div[1]/button')\n",
    "button.click()"
   ]
  },
  {
   "cell_type": "code",
   "execution_count": 20,
   "id": "83aeff30",
   "metadata": {},
   "outputs": [
    {
     "name": "stdout",
     "output_type": "stream",
     "text": [
      "Latitude: 51.5286416\n",
      "Longitude: -0.1015987\n"
     ]
    }
   ],
   "source": [
    "current_url = driver.current_url\n",
    "latitude_longitude = current_url.split(\"@\")[1].split(\",\")[0:2]\n",
    "\n",
    "latitude = latitude_longitude[0]\n",
    "longitude = latitude_longitude[1]\n",
    "\n",
    "print(\"Latitude:\", latitude)\n",
    "print(\"Longitude:\", longitude)"
   ]
  }
 ],
 "metadata": {
  "kernelspec": {
   "display_name": "Python 3 (ipykernel)",
   "language": "python",
   "name": "python3"
  },
  "language_info": {
   "codemirror_mode": {
    "name": "ipython",
    "version": 3
   },
   "file_extension": ".py",
   "mimetype": "text/x-python",
   "name": "python",
   "nbconvert_exporter": "python",
   "pygments_lexer": "ipython3",
   "version": "3.10.9"
  }
 },
 "nbformat": 4,
 "nbformat_minor": 5
}
